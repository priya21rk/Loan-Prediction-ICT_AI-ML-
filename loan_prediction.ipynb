{
  "nbformat": 4,
  "nbformat_minor": 0,
  "metadata": {
    "colab": {
      "provenance": [],
      "toc_visible": true
    },
    "kernelspec": {
      "name": "python3",
      "display_name": "Python 3"
    },
    "language_info": {
      "name": "python"
    }
  },
  "cells": [
    {
      "cell_type": "markdown",
      "source": [
        "# **LOAN PREDICTION**\n",
        "\n",
        "The **Loan Prediction Dataset** is used to predict loan approval based on applicants' demographic, financial, and credit information. Key features include applicant income, co-applicant income, loan amount, loan term, credit history, and property area. The target variable, \"Loan_Status,\" indicates whether a loan was approved. This dataset supports building models for predicting loan eligibility, aiding in credit risk assessment.\n",
        "The main goal is to use these features to develop a predictive model that can assess whether a loan application will be approved based on the applicant's characteristics."
      ],
      "metadata": {
        "id": "_zHY4H34Jxik"
      }
    },
    {
      "cell_type": "code",
      "execution_count": 61,
      "metadata": {
        "id": "H9g2Px24F9hM"
      },
      "outputs": [],
      "source": [
        "import numpy as np\n",
        "import pandas as pd\n",
        "import matplotlib.pyplot as plt\n",
        "import seaborn as sns"
      ]
    },
    {
      "cell_type": "markdown",
      "source": [
        "# Loading the Dataset"
      ],
      "metadata": {
        "id": "_cnu180PK5gn"
      }
    },
    {
      "cell_type": "code",
      "source": [
        "data = pd.read_csv('/content/train_loan (1).csv')"
      ],
      "metadata": {
        "id": "507LRSlSHAbO"
      },
      "execution_count": 62,
      "outputs": []
    },
    {
      "cell_type": "markdown",
      "source": [],
      "metadata": {
        "id": "_EFOJfq9LDiC"
      }
    },
    {
      "cell_type": "code",
      "source": [
        "data.head()"
      ],
      "metadata": {
        "colab": {
          "base_uri": "https://localhost:8080/",
          "height": 243
        },
        "id": "SIhQRTQ8HdVC",
        "outputId": "2491641f-e57c-4671-fc8a-3df677d97694"
      },
      "execution_count": 63,
      "outputs": [
        {
          "output_type": "execute_result",
          "data": {
            "text/plain": [
              "    Loan_ID Gender Married Dependents     Education Self_Employed  \\\n",
              "0  LP001002   Male      No          0      Graduate            No   \n",
              "1  LP001003   Male     Yes          1      Graduate            No   \n",
              "2  LP001005   Male     Yes          0      Graduate           Yes   \n",
              "3  LP001006   Male     Yes          0  Not Graduate            No   \n",
              "4  LP001008   Male      No          0      Graduate            No   \n",
              "\n",
              "   ApplicantIncome  CoapplicantIncome  LoanAmount  Loan_Amount_Term  \\\n",
              "0             5849                0.0         NaN             360.0   \n",
              "1             4583             1508.0       128.0             360.0   \n",
              "2             3000                0.0        66.0             360.0   \n",
              "3             2583             2358.0       120.0             360.0   \n",
              "4             6000                0.0       141.0             360.0   \n",
              "\n",
              "   Credit_History Property_Area Loan_Status  \n",
              "0             1.0         Urban           Y  \n",
              "1             1.0         Rural           N  \n",
              "2             1.0         Urban           Y  \n",
              "3             1.0         Urban           Y  \n",
              "4             1.0         Urban           Y  "
            ],
            "text/html": [
              "\n",
              "  <div id=\"df-d76ca0da-c3ae-4996-ad41-e6f6aaf494c3\" class=\"colab-df-container\">\n",
              "    <div>\n",
              "<style scoped>\n",
              "    .dataframe tbody tr th:only-of-type {\n",
              "        vertical-align: middle;\n",
              "    }\n",
              "\n",
              "    .dataframe tbody tr th {\n",
              "        vertical-align: top;\n",
              "    }\n",
              "\n",
              "    .dataframe thead th {\n",
              "        text-align: right;\n",
              "    }\n",
              "</style>\n",
              "<table border=\"1\" class=\"dataframe\">\n",
              "  <thead>\n",
              "    <tr style=\"text-align: right;\">\n",
              "      <th></th>\n",
              "      <th>Loan_ID</th>\n",
              "      <th>Gender</th>\n",
              "      <th>Married</th>\n",
              "      <th>Dependents</th>\n",
              "      <th>Education</th>\n",
              "      <th>Self_Employed</th>\n",
              "      <th>ApplicantIncome</th>\n",
              "      <th>CoapplicantIncome</th>\n",
              "      <th>LoanAmount</th>\n",
              "      <th>Loan_Amount_Term</th>\n",
              "      <th>Credit_History</th>\n",
              "      <th>Property_Area</th>\n",
              "      <th>Loan_Status</th>\n",
              "    </tr>\n",
              "  </thead>\n",
              "  <tbody>\n",
              "    <tr>\n",
              "      <th>0</th>\n",
              "      <td>LP001002</td>\n",
              "      <td>Male</td>\n",
              "      <td>No</td>\n",
              "      <td>0</td>\n",
              "      <td>Graduate</td>\n",
              "      <td>No</td>\n",
              "      <td>5849</td>\n",
              "      <td>0.0</td>\n",
              "      <td>NaN</td>\n",
              "      <td>360.0</td>\n",
              "      <td>1.0</td>\n",
              "      <td>Urban</td>\n",
              "      <td>Y</td>\n",
              "    </tr>\n",
              "    <tr>\n",
              "      <th>1</th>\n",
              "      <td>LP001003</td>\n",
              "      <td>Male</td>\n",
              "      <td>Yes</td>\n",
              "      <td>1</td>\n",
              "      <td>Graduate</td>\n",
              "      <td>No</td>\n",
              "      <td>4583</td>\n",
              "      <td>1508.0</td>\n",
              "      <td>128.0</td>\n",
              "      <td>360.0</td>\n",
              "      <td>1.0</td>\n",
              "      <td>Rural</td>\n",
              "      <td>N</td>\n",
              "    </tr>\n",
              "    <tr>\n",
              "      <th>2</th>\n",
              "      <td>LP001005</td>\n",
              "      <td>Male</td>\n",
              "      <td>Yes</td>\n",
              "      <td>0</td>\n",
              "      <td>Graduate</td>\n",
              "      <td>Yes</td>\n",
              "      <td>3000</td>\n",
              "      <td>0.0</td>\n",
              "      <td>66.0</td>\n",
              "      <td>360.0</td>\n",
              "      <td>1.0</td>\n",
              "      <td>Urban</td>\n",
              "      <td>Y</td>\n",
              "    </tr>\n",
              "    <tr>\n",
              "      <th>3</th>\n",
              "      <td>LP001006</td>\n",
              "      <td>Male</td>\n",
              "      <td>Yes</td>\n",
              "      <td>0</td>\n",
              "      <td>Not Graduate</td>\n",
              "      <td>No</td>\n",
              "      <td>2583</td>\n",
              "      <td>2358.0</td>\n",
              "      <td>120.0</td>\n",
              "      <td>360.0</td>\n",
              "      <td>1.0</td>\n",
              "      <td>Urban</td>\n",
              "      <td>Y</td>\n",
              "    </tr>\n",
              "    <tr>\n",
              "      <th>4</th>\n",
              "      <td>LP001008</td>\n",
              "      <td>Male</td>\n",
              "      <td>No</td>\n",
              "      <td>0</td>\n",
              "      <td>Graduate</td>\n",
              "      <td>No</td>\n",
              "      <td>6000</td>\n",
              "      <td>0.0</td>\n",
              "      <td>141.0</td>\n",
              "      <td>360.0</td>\n",
              "      <td>1.0</td>\n",
              "      <td>Urban</td>\n",
              "      <td>Y</td>\n",
              "    </tr>\n",
              "  </tbody>\n",
              "</table>\n",
              "</div>\n",
              "    <div class=\"colab-df-buttons\">\n",
              "\n",
              "  <div class=\"colab-df-container\">\n",
              "    <button class=\"colab-df-convert\" onclick=\"convertToInteractive('df-d76ca0da-c3ae-4996-ad41-e6f6aaf494c3')\"\n",
              "            title=\"Convert this dataframe to an interactive table.\"\n",
              "            style=\"display:none;\">\n",
              "\n",
              "  <svg xmlns=\"http://www.w3.org/2000/svg\" height=\"24px\" viewBox=\"0 -960 960 960\">\n",
              "    <path d=\"M120-120v-720h720v720H120Zm60-500h600v-160H180v160Zm220 220h160v-160H400v160Zm0 220h160v-160H400v160ZM180-400h160v-160H180v160Zm440 0h160v-160H620v160ZM180-180h160v-160H180v160Zm440 0h160v-160H620v160Z\"/>\n",
              "  </svg>\n",
              "    </button>\n",
              "\n",
              "  <style>\n",
              "    .colab-df-container {\n",
              "      display:flex;\n",
              "      gap: 12px;\n",
              "    }\n",
              "\n",
              "    .colab-df-convert {\n",
              "      background-color: #E8F0FE;\n",
              "      border: none;\n",
              "      border-radius: 50%;\n",
              "      cursor: pointer;\n",
              "      display: none;\n",
              "      fill: #1967D2;\n",
              "      height: 32px;\n",
              "      padding: 0 0 0 0;\n",
              "      width: 32px;\n",
              "    }\n",
              "\n",
              "    .colab-df-convert:hover {\n",
              "      background-color: #E2EBFA;\n",
              "      box-shadow: 0px 1px 2px rgba(60, 64, 67, 0.3), 0px 1px 3px 1px rgba(60, 64, 67, 0.15);\n",
              "      fill: #174EA6;\n",
              "    }\n",
              "\n",
              "    .colab-df-buttons div {\n",
              "      margin-bottom: 4px;\n",
              "    }\n",
              "\n",
              "    [theme=dark] .colab-df-convert {\n",
              "      background-color: #3B4455;\n",
              "      fill: #D2E3FC;\n",
              "    }\n",
              "\n",
              "    [theme=dark] .colab-df-convert:hover {\n",
              "      background-color: #434B5C;\n",
              "      box-shadow: 0px 1px 3px 1px rgba(0, 0, 0, 0.15);\n",
              "      filter: drop-shadow(0px 1px 2px rgba(0, 0, 0, 0.3));\n",
              "      fill: #FFFFFF;\n",
              "    }\n",
              "  </style>\n",
              "\n",
              "    <script>\n",
              "      const buttonEl =\n",
              "        document.querySelector('#df-d76ca0da-c3ae-4996-ad41-e6f6aaf494c3 button.colab-df-convert');\n",
              "      buttonEl.style.display =\n",
              "        google.colab.kernel.accessAllowed ? 'block' : 'none';\n",
              "\n",
              "      async function convertToInteractive(key) {\n",
              "        const element = document.querySelector('#df-d76ca0da-c3ae-4996-ad41-e6f6aaf494c3');\n",
              "        const dataTable =\n",
              "          await google.colab.kernel.invokeFunction('convertToInteractive',\n",
              "                                                    [key], {});\n",
              "        if (!dataTable) return;\n",
              "\n",
              "        const docLinkHtml = 'Like what you see? Visit the ' +\n",
              "          '<a target=\"_blank\" href=https://colab.research.google.com/notebooks/data_table.ipynb>data table notebook</a>'\n",
              "          + ' to learn more about interactive tables.';\n",
              "        element.innerHTML = '';\n",
              "        dataTable['output_type'] = 'display_data';\n",
              "        await google.colab.output.renderOutput(dataTable, element);\n",
              "        const docLink = document.createElement('div');\n",
              "        docLink.innerHTML = docLinkHtml;\n",
              "        element.appendChild(docLink);\n",
              "      }\n",
              "    </script>\n",
              "  </div>\n",
              "\n",
              "\n",
              "<div id=\"df-8f81c8d3-39f6-4680-ab54-2512bc8253d6\">\n",
              "  <button class=\"colab-df-quickchart\" onclick=\"quickchart('df-8f81c8d3-39f6-4680-ab54-2512bc8253d6')\"\n",
              "            title=\"Suggest charts\"\n",
              "            style=\"display:none;\">\n",
              "\n",
              "<svg xmlns=\"http://www.w3.org/2000/svg\" height=\"24px\"viewBox=\"0 0 24 24\"\n",
              "     width=\"24px\">\n",
              "    <g>\n",
              "        <path d=\"M19 3H5c-1.1 0-2 .9-2 2v14c0 1.1.9 2 2 2h14c1.1 0 2-.9 2-2V5c0-1.1-.9-2-2-2zM9 17H7v-7h2v7zm4 0h-2V7h2v10zm4 0h-2v-4h2v4z\"/>\n",
              "    </g>\n",
              "</svg>\n",
              "  </button>\n",
              "\n",
              "<style>\n",
              "  .colab-df-quickchart {\n",
              "      --bg-color: #E8F0FE;\n",
              "      --fill-color: #1967D2;\n",
              "      --hover-bg-color: #E2EBFA;\n",
              "      --hover-fill-color: #174EA6;\n",
              "      --disabled-fill-color: #AAA;\n",
              "      --disabled-bg-color: #DDD;\n",
              "  }\n",
              "\n",
              "  [theme=dark] .colab-df-quickchart {\n",
              "      --bg-color: #3B4455;\n",
              "      --fill-color: #D2E3FC;\n",
              "      --hover-bg-color: #434B5C;\n",
              "      --hover-fill-color: #FFFFFF;\n",
              "      --disabled-bg-color: #3B4455;\n",
              "      --disabled-fill-color: #666;\n",
              "  }\n",
              "\n",
              "  .colab-df-quickchart {\n",
              "    background-color: var(--bg-color);\n",
              "    border: none;\n",
              "    border-radius: 50%;\n",
              "    cursor: pointer;\n",
              "    display: none;\n",
              "    fill: var(--fill-color);\n",
              "    height: 32px;\n",
              "    padding: 0;\n",
              "    width: 32px;\n",
              "  }\n",
              "\n",
              "  .colab-df-quickchart:hover {\n",
              "    background-color: var(--hover-bg-color);\n",
              "    box-shadow: 0 1px 2px rgba(60, 64, 67, 0.3), 0 1px 3px 1px rgba(60, 64, 67, 0.15);\n",
              "    fill: var(--button-hover-fill-color);\n",
              "  }\n",
              "\n",
              "  .colab-df-quickchart-complete:disabled,\n",
              "  .colab-df-quickchart-complete:disabled:hover {\n",
              "    background-color: var(--disabled-bg-color);\n",
              "    fill: var(--disabled-fill-color);\n",
              "    box-shadow: none;\n",
              "  }\n",
              "\n",
              "  .colab-df-spinner {\n",
              "    border: 2px solid var(--fill-color);\n",
              "    border-color: transparent;\n",
              "    border-bottom-color: var(--fill-color);\n",
              "    animation:\n",
              "      spin 1s steps(1) infinite;\n",
              "  }\n",
              "\n",
              "  @keyframes spin {\n",
              "    0% {\n",
              "      border-color: transparent;\n",
              "      border-bottom-color: var(--fill-color);\n",
              "      border-left-color: var(--fill-color);\n",
              "    }\n",
              "    20% {\n",
              "      border-color: transparent;\n",
              "      border-left-color: var(--fill-color);\n",
              "      border-top-color: var(--fill-color);\n",
              "    }\n",
              "    30% {\n",
              "      border-color: transparent;\n",
              "      border-left-color: var(--fill-color);\n",
              "      border-top-color: var(--fill-color);\n",
              "      border-right-color: var(--fill-color);\n",
              "    }\n",
              "    40% {\n",
              "      border-color: transparent;\n",
              "      border-right-color: var(--fill-color);\n",
              "      border-top-color: var(--fill-color);\n",
              "    }\n",
              "    60% {\n",
              "      border-color: transparent;\n",
              "      border-right-color: var(--fill-color);\n",
              "    }\n",
              "    80% {\n",
              "      border-color: transparent;\n",
              "      border-right-color: var(--fill-color);\n",
              "      border-bottom-color: var(--fill-color);\n",
              "    }\n",
              "    90% {\n",
              "      border-color: transparent;\n",
              "      border-bottom-color: var(--fill-color);\n",
              "    }\n",
              "  }\n",
              "</style>\n",
              "\n",
              "  <script>\n",
              "    async function quickchart(key) {\n",
              "      const quickchartButtonEl =\n",
              "        document.querySelector('#' + key + ' button');\n",
              "      quickchartButtonEl.disabled = true;  // To prevent multiple clicks.\n",
              "      quickchartButtonEl.classList.add('colab-df-spinner');\n",
              "      try {\n",
              "        const charts = await google.colab.kernel.invokeFunction(\n",
              "            'suggestCharts', [key], {});\n",
              "      } catch (error) {\n",
              "        console.error('Error during call to suggestCharts:', error);\n",
              "      }\n",
              "      quickchartButtonEl.classList.remove('colab-df-spinner');\n",
              "      quickchartButtonEl.classList.add('colab-df-quickchart-complete');\n",
              "    }\n",
              "    (() => {\n",
              "      let quickchartButtonEl =\n",
              "        document.querySelector('#df-8f81c8d3-39f6-4680-ab54-2512bc8253d6 button');\n",
              "      quickchartButtonEl.style.display =\n",
              "        google.colab.kernel.accessAllowed ? 'block' : 'none';\n",
              "    })();\n",
              "  </script>\n",
              "</div>\n",
              "\n",
              "    </div>\n",
              "  </div>\n"
            ],
            "application/vnd.google.colaboratory.intrinsic+json": {
              "type": "dataframe",
              "variable_name": "data",
              "summary": "{\n  \"name\": \"data\",\n  \"rows\": 614,\n  \"fields\": [\n    {\n      \"column\": \"Loan_ID\",\n      \"properties\": {\n        \"dtype\": \"string\",\n        \"num_unique_values\": 614,\n        \"samples\": [\n          \"LP002139\",\n          \"LP002223\",\n          \"LP001570\"\n        ],\n        \"semantic_type\": \"\",\n        \"description\": \"\"\n      }\n    },\n    {\n      \"column\": \"Gender\",\n      \"properties\": {\n        \"dtype\": \"category\",\n        \"num_unique_values\": 2,\n        \"samples\": [\n          \"Female\",\n          \"Male\"\n        ],\n        \"semantic_type\": \"\",\n        \"description\": \"\"\n      }\n    },\n    {\n      \"column\": \"Married\",\n      \"properties\": {\n        \"dtype\": \"category\",\n        \"num_unique_values\": 2,\n        \"samples\": [\n          \"Yes\",\n          \"No\"\n        ],\n        \"semantic_type\": \"\",\n        \"description\": \"\"\n      }\n    },\n    {\n      \"column\": \"Dependents\",\n      \"properties\": {\n        \"dtype\": \"category\",\n        \"num_unique_values\": 4,\n        \"samples\": [\n          \"1\",\n          \"3+\"\n        ],\n        \"semantic_type\": \"\",\n        \"description\": \"\"\n      }\n    },\n    {\n      \"column\": \"Education\",\n      \"properties\": {\n        \"dtype\": \"category\",\n        \"num_unique_values\": 2,\n        \"samples\": [\n          \"Not Graduate\",\n          \"Graduate\"\n        ],\n        \"semantic_type\": \"\",\n        \"description\": \"\"\n      }\n    },\n    {\n      \"column\": \"Self_Employed\",\n      \"properties\": {\n        \"dtype\": \"category\",\n        \"num_unique_values\": 2,\n        \"samples\": [\n          \"Yes\",\n          \"No\"\n        ],\n        \"semantic_type\": \"\",\n        \"description\": \"\"\n      }\n    },\n    {\n      \"column\": \"ApplicantIncome\",\n      \"properties\": {\n        \"dtype\": \"number\",\n        \"std\": 6109,\n        \"min\": 150,\n        \"max\": 81000,\n        \"num_unique_values\": 505,\n        \"samples\": [\n          8333,\n          4342\n        ],\n        \"semantic_type\": \"\",\n        \"description\": \"\"\n      }\n    },\n    {\n      \"column\": \"CoapplicantIncome\",\n      \"properties\": {\n        \"dtype\": \"number\",\n        \"std\": 2926.2483692241917,\n        \"min\": 0.0,\n        \"max\": 41667.0,\n        \"num_unique_values\": 287,\n        \"samples\": [\n          1840.0,\n          2042.0\n        ],\n        \"semantic_type\": \"\",\n        \"description\": \"\"\n      }\n    },\n    {\n      \"column\": \"LoanAmount\",\n      \"properties\": {\n        \"dtype\": \"number\",\n        \"std\": 85.58732523570545,\n        \"min\": 9.0,\n        \"max\": 700.0,\n        \"num_unique_values\": 203,\n        \"samples\": [\n          100.0,\n          70.0\n        ],\n        \"semantic_type\": \"\",\n        \"description\": \"\"\n      }\n    },\n    {\n      \"column\": \"Loan_Amount_Term\",\n      \"properties\": {\n        \"dtype\": \"number\",\n        \"std\": 65.12040985461256,\n        \"min\": 12.0,\n        \"max\": 480.0,\n        \"num_unique_values\": 10,\n        \"samples\": [\n          84.0,\n          120.0\n        ],\n        \"semantic_type\": \"\",\n        \"description\": \"\"\n      }\n    },\n    {\n      \"column\": \"Credit_History\",\n      \"properties\": {\n        \"dtype\": \"number\",\n        \"std\": 0.3648783192364049,\n        \"min\": 0.0,\n        \"max\": 1.0,\n        \"num_unique_values\": 2,\n        \"samples\": [\n          0.0,\n          1.0\n        ],\n        \"semantic_type\": \"\",\n        \"description\": \"\"\n      }\n    },\n    {\n      \"column\": \"Property_Area\",\n      \"properties\": {\n        \"dtype\": \"category\",\n        \"num_unique_values\": 3,\n        \"samples\": [\n          \"Urban\",\n          \"Rural\"\n        ],\n        \"semantic_type\": \"\",\n        \"description\": \"\"\n      }\n    },\n    {\n      \"column\": \"Loan_Status\",\n      \"properties\": {\n        \"dtype\": \"category\",\n        \"num_unique_values\": 2,\n        \"samples\": [\n          \"N\",\n          \"Y\"\n        ],\n        \"semantic_type\": \"\",\n        \"description\": \"\"\n      }\n    }\n  ]\n}"
            }
          },
          "metadata": {},
          "execution_count": 63
        }
      ]
    },
    {
      "cell_type": "code",
      "source": [
        "#loan id doesn't provide any relationship to the data we are dropping that column\n",
        "data = data.drop(['Loan_ID'], axis=1)\n",
        "data.head()"
      ],
      "metadata": {
        "colab": {
          "base_uri": "https://localhost:8080/",
          "height": 243
        },
        "id": "yB0wF-2zqd90",
        "outputId": "1d93a670-d028-4dd9-e395-91fdb289a29d"
      },
      "execution_count": 64,
      "outputs": [
        {
          "output_type": "execute_result",
          "data": {
            "text/plain": [
              "  Gender Married Dependents     Education Self_Employed  ApplicantIncome  \\\n",
              "0   Male      No          0      Graduate            No             5849   \n",
              "1   Male     Yes          1      Graduate            No             4583   \n",
              "2   Male     Yes          0      Graduate           Yes             3000   \n",
              "3   Male     Yes          0  Not Graduate            No             2583   \n",
              "4   Male      No          0      Graduate            No             6000   \n",
              "\n",
              "   CoapplicantIncome  LoanAmount  Loan_Amount_Term  Credit_History  \\\n",
              "0                0.0         NaN             360.0             1.0   \n",
              "1             1508.0       128.0             360.0             1.0   \n",
              "2                0.0        66.0             360.0             1.0   \n",
              "3             2358.0       120.0             360.0             1.0   \n",
              "4                0.0       141.0             360.0             1.0   \n",
              "\n",
              "  Property_Area Loan_Status  \n",
              "0         Urban           Y  \n",
              "1         Rural           N  \n",
              "2         Urban           Y  \n",
              "3         Urban           Y  \n",
              "4         Urban           Y  "
            ],
            "text/html": [
              "\n",
              "  <div id=\"df-7a8716af-ca4b-45a2-a6f3-f303fd59e1d8\" class=\"colab-df-container\">\n",
              "    <div>\n",
              "<style scoped>\n",
              "    .dataframe tbody tr th:only-of-type {\n",
              "        vertical-align: middle;\n",
              "    }\n",
              "\n",
              "    .dataframe tbody tr th {\n",
              "        vertical-align: top;\n",
              "    }\n",
              "\n",
              "    .dataframe thead th {\n",
              "        text-align: right;\n",
              "    }\n",
              "</style>\n",
              "<table border=\"1\" class=\"dataframe\">\n",
              "  <thead>\n",
              "    <tr style=\"text-align: right;\">\n",
              "      <th></th>\n",
              "      <th>Gender</th>\n",
              "      <th>Married</th>\n",
              "      <th>Dependents</th>\n",
              "      <th>Education</th>\n",
              "      <th>Self_Employed</th>\n",
              "      <th>ApplicantIncome</th>\n",
              "      <th>CoapplicantIncome</th>\n",
              "      <th>LoanAmount</th>\n",
              "      <th>Loan_Amount_Term</th>\n",
              "      <th>Credit_History</th>\n",
              "      <th>Property_Area</th>\n",
              "      <th>Loan_Status</th>\n",
              "    </tr>\n",
              "  </thead>\n",
              "  <tbody>\n",
              "    <tr>\n",
              "      <th>0</th>\n",
              "      <td>Male</td>\n",
              "      <td>No</td>\n",
              "      <td>0</td>\n",
              "      <td>Graduate</td>\n",
              "      <td>No</td>\n",
              "      <td>5849</td>\n",
              "      <td>0.0</td>\n",
              "      <td>NaN</td>\n",
              "      <td>360.0</td>\n",
              "      <td>1.0</td>\n",
              "      <td>Urban</td>\n",
              "      <td>Y</td>\n",
              "    </tr>\n",
              "    <tr>\n",
              "      <th>1</th>\n",
              "      <td>Male</td>\n",
              "      <td>Yes</td>\n",
              "      <td>1</td>\n",
              "      <td>Graduate</td>\n",
              "      <td>No</td>\n",
              "      <td>4583</td>\n",
              "      <td>1508.0</td>\n",
              "      <td>128.0</td>\n",
              "      <td>360.0</td>\n",
              "      <td>1.0</td>\n",
              "      <td>Rural</td>\n",
              "      <td>N</td>\n",
              "    </tr>\n",
              "    <tr>\n",
              "      <th>2</th>\n",
              "      <td>Male</td>\n",
              "      <td>Yes</td>\n",
              "      <td>0</td>\n",
              "      <td>Graduate</td>\n",
              "      <td>Yes</td>\n",
              "      <td>3000</td>\n",
              "      <td>0.0</td>\n",
              "      <td>66.0</td>\n",
              "      <td>360.0</td>\n",
              "      <td>1.0</td>\n",
              "      <td>Urban</td>\n",
              "      <td>Y</td>\n",
              "    </tr>\n",
              "    <tr>\n",
              "      <th>3</th>\n",
              "      <td>Male</td>\n",
              "      <td>Yes</td>\n",
              "      <td>0</td>\n",
              "      <td>Not Graduate</td>\n",
              "      <td>No</td>\n",
              "      <td>2583</td>\n",
              "      <td>2358.0</td>\n",
              "      <td>120.0</td>\n",
              "      <td>360.0</td>\n",
              "      <td>1.0</td>\n",
              "      <td>Urban</td>\n",
              "      <td>Y</td>\n",
              "    </tr>\n",
              "    <tr>\n",
              "      <th>4</th>\n",
              "      <td>Male</td>\n",
              "      <td>No</td>\n",
              "      <td>0</td>\n",
              "      <td>Graduate</td>\n",
              "      <td>No</td>\n",
              "      <td>6000</td>\n",
              "      <td>0.0</td>\n",
              "      <td>141.0</td>\n",
              "      <td>360.0</td>\n",
              "      <td>1.0</td>\n",
              "      <td>Urban</td>\n",
              "      <td>Y</td>\n",
              "    </tr>\n",
              "  </tbody>\n",
              "</table>\n",
              "</div>\n",
              "    <div class=\"colab-df-buttons\">\n",
              "\n",
              "  <div class=\"colab-df-container\">\n",
              "    <button class=\"colab-df-convert\" onclick=\"convertToInteractive('df-7a8716af-ca4b-45a2-a6f3-f303fd59e1d8')\"\n",
              "            title=\"Convert this dataframe to an interactive table.\"\n",
              "            style=\"display:none;\">\n",
              "\n",
              "  <svg xmlns=\"http://www.w3.org/2000/svg\" height=\"24px\" viewBox=\"0 -960 960 960\">\n",
              "    <path d=\"M120-120v-720h720v720H120Zm60-500h600v-160H180v160Zm220 220h160v-160H400v160Zm0 220h160v-160H400v160ZM180-400h160v-160H180v160Zm440 0h160v-160H620v160ZM180-180h160v-160H180v160Zm440 0h160v-160H620v160Z\"/>\n",
              "  </svg>\n",
              "    </button>\n",
              "\n",
              "  <style>\n",
              "    .colab-df-container {\n",
              "      display:flex;\n",
              "      gap: 12px;\n",
              "    }\n",
              "\n",
              "    .colab-df-convert {\n",
              "      background-color: #E8F0FE;\n",
              "      border: none;\n",
              "      border-radius: 50%;\n",
              "      cursor: pointer;\n",
              "      display: none;\n",
              "      fill: #1967D2;\n",
              "      height: 32px;\n",
              "      padding: 0 0 0 0;\n",
              "      width: 32px;\n",
              "    }\n",
              "\n",
              "    .colab-df-convert:hover {\n",
              "      background-color: #E2EBFA;\n",
              "      box-shadow: 0px 1px 2px rgba(60, 64, 67, 0.3), 0px 1px 3px 1px rgba(60, 64, 67, 0.15);\n",
              "      fill: #174EA6;\n",
              "    }\n",
              "\n",
              "    .colab-df-buttons div {\n",
              "      margin-bottom: 4px;\n",
              "    }\n",
              "\n",
              "    [theme=dark] .colab-df-convert {\n",
              "      background-color: #3B4455;\n",
              "      fill: #D2E3FC;\n",
              "    }\n",
              "\n",
              "    [theme=dark] .colab-df-convert:hover {\n",
              "      background-color: #434B5C;\n",
              "      box-shadow: 0px 1px 3px 1px rgba(0, 0, 0, 0.15);\n",
              "      filter: drop-shadow(0px 1px 2px rgba(0, 0, 0, 0.3));\n",
              "      fill: #FFFFFF;\n",
              "    }\n",
              "  </style>\n",
              "\n",
              "    <script>\n",
              "      const buttonEl =\n",
              "        document.querySelector('#df-7a8716af-ca4b-45a2-a6f3-f303fd59e1d8 button.colab-df-convert');\n",
              "      buttonEl.style.display =\n",
              "        google.colab.kernel.accessAllowed ? 'block' : 'none';\n",
              "\n",
              "      async function convertToInteractive(key) {\n",
              "        const element = document.querySelector('#df-7a8716af-ca4b-45a2-a6f3-f303fd59e1d8');\n",
              "        const dataTable =\n",
              "          await google.colab.kernel.invokeFunction('convertToInteractive',\n",
              "                                                    [key], {});\n",
              "        if (!dataTable) return;\n",
              "\n",
              "        const docLinkHtml = 'Like what you see? Visit the ' +\n",
              "          '<a target=\"_blank\" href=https://colab.research.google.com/notebooks/data_table.ipynb>data table notebook</a>'\n",
              "          + ' to learn more about interactive tables.';\n",
              "        element.innerHTML = '';\n",
              "        dataTable['output_type'] = 'display_data';\n",
              "        await google.colab.output.renderOutput(dataTable, element);\n",
              "        const docLink = document.createElement('div');\n",
              "        docLink.innerHTML = docLinkHtml;\n",
              "        element.appendChild(docLink);\n",
              "      }\n",
              "    </script>\n",
              "  </div>\n",
              "\n",
              "\n",
              "<div id=\"df-6bbc5977-de93-4616-9d2e-d5eee31ef99c\">\n",
              "  <button class=\"colab-df-quickchart\" onclick=\"quickchart('df-6bbc5977-de93-4616-9d2e-d5eee31ef99c')\"\n",
              "            title=\"Suggest charts\"\n",
              "            style=\"display:none;\">\n",
              "\n",
              "<svg xmlns=\"http://www.w3.org/2000/svg\" height=\"24px\"viewBox=\"0 0 24 24\"\n",
              "     width=\"24px\">\n",
              "    <g>\n",
              "        <path d=\"M19 3H5c-1.1 0-2 .9-2 2v14c0 1.1.9 2 2 2h14c1.1 0 2-.9 2-2V5c0-1.1-.9-2-2-2zM9 17H7v-7h2v7zm4 0h-2V7h2v10zm4 0h-2v-4h2v4z\"/>\n",
              "    </g>\n",
              "</svg>\n",
              "  </button>\n",
              "\n",
              "<style>\n",
              "  .colab-df-quickchart {\n",
              "      --bg-color: #E8F0FE;\n",
              "      --fill-color: #1967D2;\n",
              "      --hover-bg-color: #E2EBFA;\n",
              "      --hover-fill-color: #174EA6;\n",
              "      --disabled-fill-color: #AAA;\n",
              "      --disabled-bg-color: #DDD;\n",
              "  }\n",
              "\n",
              "  [theme=dark] .colab-df-quickchart {\n",
              "      --bg-color: #3B4455;\n",
              "      --fill-color: #D2E3FC;\n",
              "      --hover-bg-color: #434B5C;\n",
              "      --hover-fill-color: #FFFFFF;\n",
              "      --disabled-bg-color: #3B4455;\n",
              "      --disabled-fill-color: #666;\n",
              "  }\n",
              "\n",
              "  .colab-df-quickchart {\n",
              "    background-color: var(--bg-color);\n",
              "    border: none;\n",
              "    border-radius: 50%;\n",
              "    cursor: pointer;\n",
              "    display: none;\n",
              "    fill: var(--fill-color);\n",
              "    height: 32px;\n",
              "    padding: 0;\n",
              "    width: 32px;\n",
              "  }\n",
              "\n",
              "  .colab-df-quickchart:hover {\n",
              "    background-color: var(--hover-bg-color);\n",
              "    box-shadow: 0 1px 2px rgba(60, 64, 67, 0.3), 0 1px 3px 1px rgba(60, 64, 67, 0.15);\n",
              "    fill: var(--button-hover-fill-color);\n",
              "  }\n",
              "\n",
              "  .colab-df-quickchart-complete:disabled,\n",
              "  .colab-df-quickchart-complete:disabled:hover {\n",
              "    background-color: var(--disabled-bg-color);\n",
              "    fill: var(--disabled-fill-color);\n",
              "    box-shadow: none;\n",
              "  }\n",
              "\n",
              "  .colab-df-spinner {\n",
              "    border: 2px solid var(--fill-color);\n",
              "    border-color: transparent;\n",
              "    border-bottom-color: var(--fill-color);\n",
              "    animation:\n",
              "      spin 1s steps(1) infinite;\n",
              "  }\n",
              "\n",
              "  @keyframes spin {\n",
              "    0% {\n",
              "      border-color: transparent;\n",
              "      border-bottom-color: var(--fill-color);\n",
              "      border-left-color: var(--fill-color);\n",
              "    }\n",
              "    20% {\n",
              "      border-color: transparent;\n",
              "      border-left-color: var(--fill-color);\n",
              "      border-top-color: var(--fill-color);\n",
              "    }\n",
              "    30% {\n",
              "      border-color: transparent;\n",
              "      border-left-color: var(--fill-color);\n",
              "      border-top-color: var(--fill-color);\n",
              "      border-right-color: var(--fill-color);\n",
              "    }\n",
              "    40% {\n",
              "      border-color: transparent;\n",
              "      border-right-color: var(--fill-color);\n",
              "      border-top-color: var(--fill-color);\n",
              "    }\n",
              "    60% {\n",
              "      border-color: transparent;\n",
              "      border-right-color: var(--fill-color);\n",
              "    }\n",
              "    80% {\n",
              "      border-color: transparent;\n",
              "      border-right-color: var(--fill-color);\n",
              "      border-bottom-color: var(--fill-color);\n",
              "    }\n",
              "    90% {\n",
              "      border-color: transparent;\n",
              "      border-bottom-color: var(--fill-color);\n",
              "    }\n",
              "  }\n",
              "</style>\n",
              "\n",
              "  <script>\n",
              "    async function quickchart(key) {\n",
              "      const quickchartButtonEl =\n",
              "        document.querySelector('#' + key + ' button');\n",
              "      quickchartButtonEl.disabled = true;  // To prevent multiple clicks.\n",
              "      quickchartButtonEl.classList.add('colab-df-spinner');\n",
              "      try {\n",
              "        const charts = await google.colab.kernel.invokeFunction(\n",
              "            'suggestCharts', [key], {});\n",
              "      } catch (error) {\n",
              "        console.error('Error during call to suggestCharts:', error);\n",
              "      }\n",
              "      quickchartButtonEl.classList.remove('colab-df-spinner');\n",
              "      quickchartButtonEl.classList.add('colab-df-quickchart-complete');\n",
              "    }\n",
              "    (() => {\n",
              "      let quickchartButtonEl =\n",
              "        document.querySelector('#df-6bbc5977-de93-4616-9d2e-d5eee31ef99c button');\n",
              "      quickchartButtonEl.style.display =\n",
              "        google.colab.kernel.accessAllowed ? 'block' : 'none';\n",
              "    })();\n",
              "  </script>\n",
              "</div>\n",
              "\n",
              "    </div>\n",
              "  </div>\n"
            ],
            "application/vnd.google.colaboratory.intrinsic+json": {
              "type": "dataframe",
              "variable_name": "data",
              "summary": "{\n  \"name\": \"data\",\n  \"rows\": 614,\n  \"fields\": [\n    {\n      \"column\": \"Gender\",\n      \"properties\": {\n        \"dtype\": \"category\",\n        \"num_unique_values\": 2,\n        \"samples\": [\n          \"Female\",\n          \"Male\"\n        ],\n        \"semantic_type\": \"\",\n        \"description\": \"\"\n      }\n    },\n    {\n      \"column\": \"Married\",\n      \"properties\": {\n        \"dtype\": \"category\",\n        \"num_unique_values\": 2,\n        \"samples\": [\n          \"Yes\",\n          \"No\"\n        ],\n        \"semantic_type\": \"\",\n        \"description\": \"\"\n      }\n    },\n    {\n      \"column\": \"Dependents\",\n      \"properties\": {\n        \"dtype\": \"category\",\n        \"num_unique_values\": 4,\n        \"samples\": [\n          \"1\",\n          \"3+\"\n        ],\n        \"semantic_type\": \"\",\n        \"description\": \"\"\n      }\n    },\n    {\n      \"column\": \"Education\",\n      \"properties\": {\n        \"dtype\": \"category\",\n        \"num_unique_values\": 2,\n        \"samples\": [\n          \"Not Graduate\",\n          \"Graduate\"\n        ],\n        \"semantic_type\": \"\",\n        \"description\": \"\"\n      }\n    },\n    {\n      \"column\": \"Self_Employed\",\n      \"properties\": {\n        \"dtype\": \"category\",\n        \"num_unique_values\": 2,\n        \"samples\": [\n          \"Yes\",\n          \"No\"\n        ],\n        \"semantic_type\": \"\",\n        \"description\": \"\"\n      }\n    },\n    {\n      \"column\": \"ApplicantIncome\",\n      \"properties\": {\n        \"dtype\": \"number\",\n        \"std\": 6109,\n        \"min\": 150,\n        \"max\": 81000,\n        \"num_unique_values\": 505,\n        \"samples\": [\n          8333,\n          4342\n        ],\n        \"semantic_type\": \"\",\n        \"description\": \"\"\n      }\n    },\n    {\n      \"column\": \"CoapplicantIncome\",\n      \"properties\": {\n        \"dtype\": \"number\",\n        \"std\": 2926.2483692241917,\n        \"min\": 0.0,\n        \"max\": 41667.0,\n        \"num_unique_values\": 287,\n        \"samples\": [\n          1840.0,\n          2042.0\n        ],\n        \"semantic_type\": \"\",\n        \"description\": \"\"\n      }\n    },\n    {\n      \"column\": \"LoanAmount\",\n      \"properties\": {\n        \"dtype\": \"number\",\n        \"std\": 85.58732523570545,\n        \"min\": 9.0,\n        \"max\": 700.0,\n        \"num_unique_values\": 203,\n        \"samples\": [\n          100.0,\n          70.0\n        ],\n        \"semantic_type\": \"\",\n        \"description\": \"\"\n      }\n    },\n    {\n      \"column\": \"Loan_Amount_Term\",\n      \"properties\": {\n        \"dtype\": \"number\",\n        \"std\": 65.12040985461256,\n        \"min\": 12.0,\n        \"max\": 480.0,\n        \"num_unique_values\": 10,\n        \"samples\": [\n          84.0,\n          120.0\n        ],\n        \"semantic_type\": \"\",\n        \"description\": \"\"\n      }\n    },\n    {\n      \"column\": \"Credit_History\",\n      \"properties\": {\n        \"dtype\": \"number\",\n        \"std\": 0.3648783192364049,\n        \"min\": 0.0,\n        \"max\": 1.0,\n        \"num_unique_values\": 2,\n        \"samples\": [\n          0.0,\n          1.0\n        ],\n        \"semantic_type\": \"\",\n        \"description\": \"\"\n      }\n    },\n    {\n      \"column\": \"Property_Area\",\n      \"properties\": {\n        \"dtype\": \"category\",\n        \"num_unique_values\": 3,\n        \"samples\": [\n          \"Urban\",\n          \"Rural\"\n        ],\n        \"semantic_type\": \"\",\n        \"description\": \"\"\n      }\n    },\n    {\n      \"column\": \"Loan_Status\",\n      \"properties\": {\n        \"dtype\": \"category\",\n        \"num_unique_values\": 2,\n        \"samples\": [\n          \"N\",\n          \"Y\"\n        ],\n        \"semantic_type\": \"\",\n        \"description\": \"\"\n      }\n    }\n  ]\n}"
            }
          },
          "metadata": {},
          "execution_count": 64
        }
      ]
    },
    {
      "cell_type": "code",
      "source": [
        "data.info()"
      ],
      "metadata": {
        "colab": {
          "base_uri": "https://localhost:8080/"
        },
        "id": "GX50-8SVHejq",
        "outputId": "9da4f9a2-f3f8-41b7-c801-0e9743c17804"
      },
      "execution_count": 65,
      "outputs": [
        {
          "output_type": "stream",
          "name": "stdout",
          "text": [
            "<class 'pandas.core.frame.DataFrame'>\n",
            "RangeIndex: 614 entries, 0 to 613\n",
            "Data columns (total 12 columns):\n",
            " #   Column             Non-Null Count  Dtype  \n",
            "---  ------             --------------  -----  \n",
            " 0   Gender             601 non-null    object \n",
            " 1   Married            611 non-null    object \n",
            " 2   Dependents         599 non-null    object \n",
            " 3   Education          614 non-null    object \n",
            " 4   Self_Employed      582 non-null    object \n",
            " 5   ApplicantIncome    614 non-null    int64  \n",
            " 6   CoapplicantIncome  614 non-null    float64\n",
            " 7   LoanAmount         592 non-null    float64\n",
            " 8   Loan_Amount_Term   600 non-null    float64\n",
            " 9   Credit_History     564 non-null    float64\n",
            " 10  Property_Area      614 non-null    object \n",
            " 11  Loan_Status        614 non-null    object \n",
            "dtypes: float64(4), int64(1), object(7)\n",
            "memory usage: 57.7+ KB\n"
          ]
        }
      ]
    },
    {
      "cell_type": "markdown",
      "source": [
        "# Missing Value Handling:\n",
        "Filled missing categorical values with the mode and numerical values with the mean.\n"
      ],
      "metadata": {
        "id": "2ymW3yv7LKAz"
      }
    },
    {
      "cell_type": "code",
      "source": [
        "data.isna().sum()"
      ],
      "metadata": {
        "colab": {
          "base_uri": "https://localhost:8080/",
          "height": 460
        },
        "id": "nGUQtLmuHuiF",
        "outputId": "f8c4ecfb-46cb-4a6a-aa99-d595226904a8"
      },
      "execution_count": 66,
      "outputs": [
        {
          "output_type": "execute_result",
          "data": {
            "text/plain": [
              "Gender               13\n",
              "Married               3\n",
              "Dependents           15\n",
              "Education             0\n",
              "Self_Employed        32\n",
              "ApplicantIncome       0\n",
              "CoapplicantIncome     0\n",
              "LoanAmount           22\n",
              "Loan_Amount_Term     14\n",
              "Credit_History       50\n",
              "Property_Area         0\n",
              "Loan_Status           0\n",
              "dtype: int64"
            ],
            "text/html": [
              "<div>\n",
              "<style scoped>\n",
              "    .dataframe tbody tr th:only-of-type {\n",
              "        vertical-align: middle;\n",
              "    }\n",
              "\n",
              "    .dataframe tbody tr th {\n",
              "        vertical-align: top;\n",
              "    }\n",
              "\n",
              "    .dataframe thead th {\n",
              "        text-align: right;\n",
              "    }\n",
              "</style>\n",
              "<table border=\"1\" class=\"dataframe\">\n",
              "  <thead>\n",
              "    <tr style=\"text-align: right;\">\n",
              "      <th></th>\n",
              "      <th>0</th>\n",
              "    </tr>\n",
              "  </thead>\n",
              "  <tbody>\n",
              "    <tr>\n",
              "      <th>Gender</th>\n",
              "      <td>13</td>\n",
              "    </tr>\n",
              "    <tr>\n",
              "      <th>Married</th>\n",
              "      <td>3</td>\n",
              "    </tr>\n",
              "    <tr>\n",
              "      <th>Dependents</th>\n",
              "      <td>15</td>\n",
              "    </tr>\n",
              "    <tr>\n",
              "      <th>Education</th>\n",
              "      <td>0</td>\n",
              "    </tr>\n",
              "    <tr>\n",
              "      <th>Self_Employed</th>\n",
              "      <td>32</td>\n",
              "    </tr>\n",
              "    <tr>\n",
              "      <th>ApplicantIncome</th>\n",
              "      <td>0</td>\n",
              "    </tr>\n",
              "    <tr>\n",
              "      <th>CoapplicantIncome</th>\n",
              "      <td>0</td>\n",
              "    </tr>\n",
              "    <tr>\n",
              "      <th>LoanAmount</th>\n",
              "      <td>22</td>\n",
              "    </tr>\n",
              "    <tr>\n",
              "      <th>Loan_Amount_Term</th>\n",
              "      <td>14</td>\n",
              "    </tr>\n",
              "    <tr>\n",
              "      <th>Credit_History</th>\n",
              "      <td>50</td>\n",
              "    </tr>\n",
              "    <tr>\n",
              "      <th>Property_Area</th>\n",
              "      <td>0</td>\n",
              "    </tr>\n",
              "    <tr>\n",
              "      <th>Loan_Status</th>\n",
              "      <td>0</td>\n",
              "    </tr>\n",
              "  </tbody>\n",
              "</table>\n",
              "</div><br><label><b>dtype:</b> int64</label>"
            ]
          },
          "metadata": {},
          "execution_count": 66
        }
      ]
    },
    {
      "cell_type": "code",
      "source": [
        "#For numerical columns\n",
        "num_feature = [features for features in data.columns if data[features].dtypes!=\"O\"]\n",
        "print(\"Numerical Columns are : \", num_feature,\"\\n\")\n",
        "\n",
        "#For categorical columns\n",
        "cat_feature = [features for features in data.columns if data[features].dtypes==\"O\"]\n",
        "print(\"Categorical Columns are : \", cat_feature)\n",
        "\n",
        "\n",
        "#filling with mode for categorical values\n",
        "for i in cat_feature:\n",
        "    data[i] = data[i].fillna(data[i].mode()[0])\n",
        "\n",
        "\n",
        "# filling with median for numerical values\n",
        "for i in num_feature:\n",
        "   data[i] = data[i].fillna(data[i].median())\n",
        "\n",
        "#Again Checking for Null values\n",
        "data.isna().sum()"
      ],
      "metadata": {
        "colab": {
          "base_uri": "https://localhost:8080/",
          "height": 512
        },
        "id": "GUvLtC_FIJWY",
        "outputId": "273995a2-72a8-4fbd-cbc1-28f6f7693ba1"
      },
      "execution_count": 67,
      "outputs": [
        {
          "output_type": "stream",
          "name": "stdout",
          "text": [
            "Numerical Columns are :  ['ApplicantIncome', 'CoapplicantIncome', 'LoanAmount', 'Loan_Amount_Term', 'Credit_History'] \n",
            "\n",
            "Categorical Columns are :  ['Gender', 'Married', 'Dependents', 'Education', 'Self_Employed', 'Property_Area', 'Loan_Status']\n"
          ]
        },
        {
          "output_type": "execute_result",
          "data": {
            "text/plain": [
              "Gender               0\n",
              "Married              0\n",
              "Dependents           0\n",
              "Education            0\n",
              "Self_Employed        0\n",
              "ApplicantIncome      0\n",
              "CoapplicantIncome    0\n",
              "LoanAmount           0\n",
              "Loan_Amount_Term     0\n",
              "Credit_History       0\n",
              "Property_Area        0\n",
              "Loan_Status          0\n",
              "dtype: int64"
            ],
            "text/html": [
              "<div>\n",
              "<style scoped>\n",
              "    .dataframe tbody tr th:only-of-type {\n",
              "        vertical-align: middle;\n",
              "    }\n",
              "\n",
              "    .dataframe tbody tr th {\n",
              "        vertical-align: top;\n",
              "    }\n",
              "\n",
              "    .dataframe thead th {\n",
              "        text-align: right;\n",
              "    }\n",
              "</style>\n",
              "<table border=\"1\" class=\"dataframe\">\n",
              "  <thead>\n",
              "    <tr style=\"text-align: right;\">\n",
              "      <th></th>\n",
              "      <th>0</th>\n",
              "    </tr>\n",
              "  </thead>\n",
              "  <tbody>\n",
              "    <tr>\n",
              "      <th>Gender</th>\n",
              "      <td>0</td>\n",
              "    </tr>\n",
              "    <tr>\n",
              "      <th>Married</th>\n",
              "      <td>0</td>\n",
              "    </tr>\n",
              "    <tr>\n",
              "      <th>Dependents</th>\n",
              "      <td>0</td>\n",
              "    </tr>\n",
              "    <tr>\n",
              "      <th>Education</th>\n",
              "      <td>0</td>\n",
              "    </tr>\n",
              "    <tr>\n",
              "      <th>Self_Employed</th>\n",
              "      <td>0</td>\n",
              "    </tr>\n",
              "    <tr>\n",
              "      <th>ApplicantIncome</th>\n",
              "      <td>0</td>\n",
              "    </tr>\n",
              "    <tr>\n",
              "      <th>CoapplicantIncome</th>\n",
              "      <td>0</td>\n",
              "    </tr>\n",
              "    <tr>\n",
              "      <th>LoanAmount</th>\n",
              "      <td>0</td>\n",
              "    </tr>\n",
              "    <tr>\n",
              "      <th>Loan_Amount_Term</th>\n",
              "      <td>0</td>\n",
              "    </tr>\n",
              "    <tr>\n",
              "      <th>Credit_History</th>\n",
              "      <td>0</td>\n",
              "    </tr>\n",
              "    <tr>\n",
              "      <th>Property_Area</th>\n",
              "      <td>0</td>\n",
              "    </tr>\n",
              "    <tr>\n",
              "      <th>Loan_Status</th>\n",
              "      <td>0</td>\n",
              "    </tr>\n",
              "  </tbody>\n",
              "</table>\n",
              "</div><br><label><b>dtype:</b> int64</label>"
            ]
          },
          "metadata": {},
          "execution_count": 67
        }
      ]
    },
    {
      "cell_type": "code",
      "source": [
        "data.duplicated().sum() # to check for duplicates."
      ],
      "metadata": {
        "colab": {
          "base_uri": "https://localhost:8080/"
        },
        "id": "k2I-AWj1lNdX",
        "outputId": "9d73bf79-5727-4f52-b9c0-bb35f18144a9"
      },
      "execution_count": 68,
      "outputs": [
        {
          "output_type": "execute_result",
          "data": {
            "text/plain": [
              "0"
            ]
          },
          "metadata": {},
          "execution_count": 68
        }
      ]
    },
    {
      "cell_type": "code",
      "source": [
        "data.info()"
      ],
      "metadata": {
        "colab": {
          "base_uri": "https://localhost:8080/"
        },
        "id": "AlFy4u1klSRr",
        "outputId": "ebafcac7-ac47-4b52-99f6-51f924f3f993"
      },
      "execution_count": 69,
      "outputs": [
        {
          "output_type": "stream",
          "name": "stdout",
          "text": [
            "<class 'pandas.core.frame.DataFrame'>\n",
            "RangeIndex: 614 entries, 0 to 613\n",
            "Data columns (total 12 columns):\n",
            " #   Column             Non-Null Count  Dtype  \n",
            "---  ------             --------------  -----  \n",
            " 0   Gender             614 non-null    object \n",
            " 1   Married            614 non-null    object \n",
            " 2   Dependents         614 non-null    object \n",
            " 3   Education          614 non-null    object \n",
            " 4   Self_Employed      614 non-null    object \n",
            " 5   ApplicantIncome    614 non-null    int64  \n",
            " 6   CoapplicantIncome  614 non-null    float64\n",
            " 7   LoanAmount         614 non-null    float64\n",
            " 8   Loan_Amount_Term   614 non-null    float64\n",
            " 9   Credit_History     614 non-null    float64\n",
            " 10  Property_Area      614 non-null    object \n",
            " 11  Loan_Status        614 non-null    object \n",
            "dtypes: float64(4), int64(1), object(7)\n",
            "memory usage: 57.7+ KB\n"
          ]
        }
      ]
    },
    {
      "cell_type": "markdown",
      "source": [
        "# Outlier Detection:\n",
        "Detected and capped outliers in numerical columns using the IQR method."
      ],
      "metadata": {
        "id": "ZWhrEmbLLUQX"
      }
    },
    {
      "cell_type": "code",
      "source": [
        "# Detecting outliers with boxplots\n",
        "for i in num_feature:\n",
        "    plt.boxplot(data[i])\n",
        "    plt.title(i)\n",
        "    plt.show()"
      ],
      "metadata": {
        "colab": {
          "base_uri": "https://localhost:8080/",
          "height": 1000
        },
        "id": "H4DgL_meJARV",
        "outputId": "1b311724-3a15-4da2-a596-d5915d9a81b8"
      },
      "execution_count": 70,
      "outputs": [
        {
          "output_type": "display_data",
          "data": {
            "text/plain": [
              "<Figure size 640x480 with 1 Axes>"
            ],
            "image/png": "[encoded data removed]"
          },
          "metadata": {}
        },
        {
          "output_type": "display_data",
          "data": {
            "text/plain": [
              "<Figure size 640x480 with 1 Axes>"
            ],
            "image/png": "[encoded data removed]"
          },
          "metadata": {}
        },
        {
          "output_type": "display_data",
          "data": {
            "text/plain": [
              "<Figure size 640x480 with 1 Axes>"
            ],
            "image/png": "[encoded data removed]"
          },
          "metadata": {}
        },
        {
          "output_type": "display_data",
          "data": {
            "text/plain": [
              "<Figure size 640x480 with 1 Axes>"
            ],
            "image/png": "[encoded data removed]"
          },
          "metadata": {}
        },
        {
          "output_type": "display_data",
          "data": {
            "text/plain": [
              "<Figure size 640x480 with 1 Axes>"
            ],
            "image/png": "[encoded data removed]"
          },
          "metadata": {}
        }
      ]
    },
    {
      "cell_type": "code",
      "source": [
        "# Pairplot to identify the outlier to conclude whether to remove outlier or not.\n",
        "sns.pairplot(data)\n",
        "plt.show()"
      ],
      "metadata": {
        "colab": {
          "base_uri": "https://localhost:8080/",
          "height": 1000
        },
        "id": "mifpsZ1QJIlE",
        "outputId": "2cf720bb-04fb-436c-fa9e-394c68c4b4ac"
      },
      "execution_count": 71,
      "outputs": [
        {
          "output_type": "display_data",
          "data": {
            "text/plain": [
              "<Figure size 1250x1250 with 30 Axes>"
            ],
            "image/png": "[encoded data removed]"
          },
          "metadata": {}
        }
      ]
    },
    {
      "cell_type": "markdown",
      "source": [
        "Based on the pairplot analysis, it appears that the outliers have minimal impact on the overall data distribution. Moreover, removing these outliers could potentially affect the efficiency or integrity of the dataset. Therefore, we have decided not to remove the outliers from the data"
      ],
      "metadata": {
        "id": "cYaoX_Guq42y"
      }
    },
    {
      "cell_type": "markdown",
      "source": [
        "# Encoding:\n",
        "Transformed categorical columns using Label Encoding and One-Hot Encoding."
      ],
      "metadata": {
        "id": "A9CLl9GYLbl7"
      }
    },
    {
      "cell_type": "code",
      "source": [
        "data.dtypes"
      ],
      "metadata": {
        "colab": {
          "base_uri": "https://localhost:8080/",
          "height": 460
        },
        "id": "-ri8--SMruUr",
        "outputId": "2617e8b3-fdcd-4bd7-db21-3e6b9f59ad50"
      },
      "execution_count": 79,
      "outputs": [
        {
          "output_type": "execute_result",
          "data": {
            "text/plain": [
              "Gender                 int64\n",
              "Married                int64\n",
              "Dependents             int64\n",
              "Education              int64\n",
              "Self_Employed          int64\n",
              "ApplicantIncome      float64\n",
              "CoapplicantIncome    float64\n",
              "LoanAmount           float64\n",
              "Loan_Amount_Term     float64\n",
              "Credit_History       float64\n",
              "Property_Area          int64\n",
              "Loan_Status            int64\n",
              "dtype: object"
            ],
            "text/html": [
              "<div>\n",
              "<style scoped>\n",
              "    .dataframe tbody tr th:only-of-type {\n",
              "        vertical-align: middle;\n",
              "    }\n",
              "\n",
              "    .dataframe tbody tr th {\n",
              "        vertical-align: top;\n",
              "    }\n",
              "\n",
              "    .dataframe thead th {\n",
              "        text-align: right;\n",
              "    }\n",
              "</style>\n",
              "<table border=\"1\" class=\"dataframe\">\n",
              "  <thead>\n",
              "    <tr style=\"text-align: right;\">\n",
              "      <th></th>\n",
              "      <th>0</th>\n",
              "    </tr>\n",
              "  </thead>\n",
              "  <tbody>\n",
              "    <tr>\n",
              "      <th>Gender</th>\n",
              "      <td>int64</td>\n",
              "    </tr>\n",
              "    <tr>\n",
              "      <th>Married</th>\n",
              "      <td>int64</td>\n",
              "    </tr>\n",
              "    <tr>\n",
              "      <th>Dependents</th>\n",
              "      <td>int64</td>\n",
              "    </tr>\n",
              "    <tr>\n",
              "      <th>Education</th>\n",
              "      <td>int64</td>\n",
              "    </tr>\n",
              "    <tr>\n",
              "      <th>Self_Employed</th>\n",
              "      <td>int64</td>\n",
              "    </tr>\n",
              "    <tr>\n",
              "      <th>ApplicantIncome</th>\n",
              "      <td>float64</td>\n",
              "    </tr>\n",
              "    <tr>\n",
              "      <th>CoapplicantIncome</th>\n",
              "      <td>float64</td>\n",
              "    </tr>\n",
              "    <tr>\n",
              "      <th>LoanAmount</th>\n",
              "      <td>float64</td>\n",
              "    </tr>\n",
              "    <tr>\n",
              "      <th>Loan_Amount_Term</th>\n",
              "      <td>float64</td>\n",
              "    </tr>\n",
              "    <tr>\n",
              "      <th>Credit_History</th>\n",
              "      <td>float64</td>\n",
              "    </tr>\n",
              "    <tr>\n",
              "      <th>Property_Area</th>\n",
              "      <td>int64</td>\n",
              "    </tr>\n",
              "    <tr>\n",
              "      <th>Loan_Status</th>\n",
              "      <td>int64</td>\n",
              "    </tr>\n",
              "  </tbody>\n",
              "</table>\n",
              "</div><br><label><b>dtype:</b> object</label>"
            ]
          },
          "metadata": {},
          "execution_count": 79
        }
      ]
    },
    {
      "cell_type": "code",
      "source": [
        "# Encoding Categorical Variables\n",
        "from sklearn.preprocessing import LabelEncoder, StandardScaler\n",
        "label_encoders = {}\n",
        "for column in data.select_dtypes(include=['object']).columns:\n",
        "    le = LabelEncoder()\n",
        "    data[column] = le.fit_transform(data[column])\n",
        "    label_encoders[column] = le\n",
        "print(\"\\nData After Encoding:\")\n",
        "print(data.head())"
      ],
      "metadata": {
        "colab": {
          "base_uri": "https://localhost:8080/"
        },
        "id": "_DJG7oEjJWcF",
        "outputId": "b983471f-c936-439f-ef00-652f50c4122b"
      },
      "execution_count": 72,
      "outputs": [
        {
          "output_type": "stream",
          "name": "stdout",
          "text": [
            "\n",
            "Data After Encoding:\n",
            "   Gender  Married  Dependents  Education  Self_Employed  ApplicantIncome  \\\n",
            "0       1        0           0          0              0             5849   \n",
            "1       1        1           1          0              0             4583   \n",
            "2       1        1           0          0              1             3000   \n",
            "3       1        1           0          1              0             2583   \n",
            "4       1        0           0          0              0             6000   \n",
            "\n",
            "   CoapplicantIncome  LoanAmount  Loan_Amount_Term  Credit_History  \\\n",
            "0                0.0       128.0             360.0             1.0   \n",
            "1             1508.0       128.0             360.0             1.0   \n",
            "2                0.0        66.0             360.0             1.0   \n",
            "3             2358.0       120.0             360.0             1.0   \n",
            "4                0.0       141.0             360.0             1.0   \n",
            "\n",
            "   Property_Area  Loan_Status  \n",
            "0              2            1  \n",
            "1              0            0  \n",
            "2              2            1  \n",
            "3              2            1  \n",
            "4              2            1  \n"
          ]
        }
      ]
    },
    {
      "cell_type": "markdown",
      "source": [
        "# Scaling:\n",
        "Standardized numerical columns to a consistent scale"
      ],
      "metadata": {
        "id": "0GLPsRzVLiH7"
      }
    },
    {
      "cell_type": "code",
      "source": [
        "# Using StandardScaler to standardize numerical features\n",
        "##As we don't scale encoded columns, dropping encoded columns\n",
        "from sklearn.preprocessing import StandardScaler\n",
        "stdclr = StandardScaler()\n",
        "data.loc[:,num_feature] = stdclr.fit_transform(data[num_feature]) #selecting the numerical columns to be scaled\n",
        "data.head()"
      ],
      "metadata": {
        "colab": {
          "base_uri": "https://localhost:8080/",
          "height": 1000
        },
        "id": "7Cp4wF3CJgvR",
        "outputId": "1ab65039-d056-4c56-9749-d5e94f15b372"
      },
      "execution_count": 73,
      "outputs": [
        {
          "output_type": "stream",
          "name": "stderr",
          "text": [
            "<ipython-input-73-dbce5ac0f21b>:5: FutureWarning: Setting an item of incompatible dtype is deprecated and will raise in a future error of pandas. Value '[ 7.29908229e-02 -1.34411954e-01 -3.93747337e-01 -4.62062470e-01\n",
            "  9.77284368e-02  2.21831139e-03 -5.03018784e-01 -3.87849628e-01\n",
            " -2.28939128e-01  1.21845703e+00 -3.60982286e-01 -4.75659966e-01\n",
            " -3.81788093e-01 -5.81654908e-01 -6.72414101e-01 -7.42880841e-02\n",
            " -2.96107483e-01 -3.10196456e-01 -8.46090753e-02 -4.59277440e-01\n",
            "  3.69678365e-01  9.03563002e-02 -4.59277440e-01 -3.33951118e-01\n",
            " -2.76284627e-01  6.80946355e-01 -4.26676214e-01 -1.92897571e-01\n",
            " -6.48987089e-01 -2.70878394e-01 -2.02727086e-01 -3.66388519e-01\n",
            " -1.16555001e-01 -3.11834708e-01  1.16259261e+00 -5.12520649e-01\n",
            " -5.85750540e-01 -2.84475890e-01 -2.02727086e-01 -2.71206044e-01\n",
            " -2.95452182e-01 -5.90337647e-01 -4.92042492e-01 -2.39587769e-01\n",
            " -1.16063525e-01 -3.26578981e-01  4.02257712e-02  6.84037156e-02\n",
            " -4.51905304e-01 -2.29922079e-01 -5.69368014e-01 -3.79658365e-01\n",
            " -1.92242270e-01 -1.29005720e-01  9.98767356e-01 -4.41584313e-01\n",
            " -5.35947661e-01 -3.33787293e-01  4.38484973e-01 -3.35261720e-01\n",
            " -4.75659966e-01 -3.88996405e-01 -4.57803013e-01 -7.51072104e-02\n",
            " -2.02727086e-01  5.28403161e-02 -3.60982286e-01  8.75898412e-01\n",
            "  2.77936221e-01 -1.80774502e-01 -3.59671684e-01 -5.78050752e-01\n",
            " -3.11834708e-01 -1.06234009e-01 -2.25193026e-02 -2.70878394e-01\n",
            " -2.70878394e-01 -7.21397853e-01 -3.66388519e-01 -3.39193526e-01\n",
            " -2.55151169e-01 -4.92861618e-01 -6.59471906e-01  9.77284368e-02\n",
            " -2.31887982e-01 -4.97612551e-01 -3.39193526e-01 -4.75659966e-01\n",
            "  5.18104049e-01  4.77617331e-02 -4.00627998e-01  1.38684751e-01\n",
            " -3.49023042e-01 -2.08133320e-01 -2.92175677e-01  2.25839789e-01\n",
            " -4.78281170e-01 -5.61340576e-01 -1.99122931e-01 -5.97054482e-01\n",
            " -1.82740405e-01 -9.18173867e-02  1.35099166e+00 -1.23108011e-01\n",
            " -2.60065927e-01 -3.85228424e-01  9.85169859e-01  3.16107506e-01\n",
            " -2.62687131e-01 -5.45941002e-01 -1.43280397e-02 -4.05378931e-01\n",
            " -3.00039290e-01  3.35438886e-01 -5.79055583e-02  1.50384063e+00\n",
            " -3.66388519e-01 -5.22513990e-01  2.69559254e-02  8.19870174e-01\n",
            "  4.31746259e-02 -2.02727086e-01 -5.35128535e-01 -4.00791823e-01\n",
            " -1.80774502e-01 -2.80380259e-01  3.01430951e+00 -2.52038489e-01\n",
            "  8.37071826e-01  1.10834457e-01  2.41847704e+00 -5.55279042e-01\n",
            " -4.39946060e-01 -3.18551544e-01 -8.32984733e-02 -2.29922079e-01\n",
            " -1.34411954e-01 -3.41978556e-01  1.57199193e+00 -1.97157028e-01\n",
            " -5.92161604e-02  2.21831139e-03  2.53362432e-01 -4.43222565e-01\n",
            "  1.04087045e+00 -5.03510260e-01  1.55020317e+00 -6.33259864e-01\n",
            "  7.53029469e-01 -8.90323573e-02  1.43108033e-01 -4.63045421e-01\n",
            "  6.16399204e-01 -5.11537698e-01 -3.52135722e-01  5.66762338e+00\n",
            "  9.77284368e-02  6.77342200e-01 -3.97023842e-01 -1.34411954e-01\n",
            " -5.80016656e-01  4.14402661e-01 -3.79166889e-01 -2.02563261e-01\n",
            "  6.42119769e-01 -2.77922880e-01 -1.34411954e-01 -4.85653307e-01\n",
            " -5.18746009e-01  4.25378953e-01 -5.87061142e-01  7.59486372e+00\n",
            " -3.08230553e-01  4.98914615e-02 -1.73566190e-01 -3.12326184e-01\n",
            " -5.50200459e-01  1.84370119e-02 -2.70878394e-01 -5.03018784e-01\n",
            "  1.63258540e-01 -5.71333917e-01 -1.31626924e-01  4.65960657e+00\n",
            " -2.91356551e-01  5.52804426e+00 -5.28411699e-01 -4.94827521e-01\n",
            " -7.74804887e-01  6.42938895e-01 -8.49367259e-02  1.08067998e+00\n",
            "  1.03134670e-01 -2.53185266e-01 -1.98631455e-01 -3.73269180e-01\n",
            "  4.79932764e-01 -5.72808344e-01 -3.25596030e-01  9.16854727e-01\n",
            " -4.59277440e-01 -7.87113661e-02 -2.31232681e-01 -3.11834708e-01\n",
            " -2.43519576e-01 -1.63081374e-01 -3.53773974e-01 -2.34017711e-01\n",
            " -4.79100297e-01 -3.25268379e-01  7.53029469e-01 -3.23302476e-01\n",
            "  3.90484173e-01  4.90723352e-02 -3.65405568e-01 -2.54495868e-01\n",
            " -8.60649323e-01 -2.74646375e-01 -6.60968212e-02 -1.83559531e-01\n",
            " -5.21367213e-01 -2.28447652e-01 -3.98498270e-01  3.56244694e-01\n",
            "  1.38684751e-01 -3.52791023e-01 -1.09510515e-01  1.38684751e-01\n",
            " -1.05742534e-01  1.63258540e-01 -4.77134394e-01 -2.76448452e-01\n",
            " -3.62784363e-01  4.79932764e-01 -3.68354422e-01  1.58158078e-02\n",
            "  5.61168213e-02 -3.17896243e-01 -2.60721228e-01 -3.42142381e-01\n",
            "  6.80760651e-02 -4.74021714e-01 -3.99481221e-01  1.38684751e-01\n",
            " -3.27234282e-01  1.05919700e-01  7.04373367e-01  1.97334194e-01\n",
            " -4.13078718e-01 -5.88863219e-01 -6.11962581e-01 -3.23793952e-01\n",
            " -4.62062470e-01 -4.49284100e-01  1.77693733e+00 -3.80149841e-01\n",
            "  1.05100573e-01 -2.51405067e-02  1.52022315e+00 -7.74007640e-02\n",
            "  1.11325933e-01 -5.47743080e-01 -3.14947388e-01  2.94318746e-01\n",
            " -3.89018284e-02 -2.14358680e-01 -1.13933797e-01 -1.75368268e-01\n",
            " -3.25268379e-01 -4.14061669e-01 -3.54920751e-01  9.40773215e-01\n",
            " -4.21106155e-01 -4.56000935e-01 -2.46304605e-01 -4.34703652e-01\n",
            " -2.31068856e-01 -3.76873336e-01  1.50384063e+00 -2.13539553e-01\n",
            " -2.21239341e-01 -2.41881323e-01 -5.08261193e-01 -5.88535569e-01\n",
            "  2.50055350e+00 -3.67862946e-01 -4.59277440e-01 -2.78414356e-01\n",
            " -2.09607747e-01  6.72427442e-01 -3.81460443e-01 -1.64391976e-01\n",
            " -3.68682073e-01  2.21831139e-03 -4.94827521e-01 -1.61770772e-01\n",
            "  2.41075538e-01 -1.20814457e-01 -6.60968212e-02 -5.55279042e-01\n",
            " -5.90337647e-01 -4.14225494e-01 -6.60968212e-02 -6.19007067e-01\n",
            " -2.29922079e-01 -5.57572595e-01 -2.68912491e-01 -4.92042492e-01\n",
            "  2.42945333e+00  3.70825142e-01 -4.07344834e-01 -4.05706581e-01\n",
            " -4.74513189e-01  5.61168213e-02 -4.80083248e-01 -3.28381059e-01\n",
            " -2.76284627e-01 -5.48070730e-01 -3.05117873e-01  7.53029469e-01\n",
            " -4.92042492e-01 -1.73893841e-01 -2.95288357e-01 -3.66552344e-01\n",
            "  1.57215576e+00  5.34486575e-01 -7.96943176e-02  6.79122399e-02\n",
            " -1.75368268e-01 -4.75659966e-01 -1.67013180e-01 -4.04395979e-01\n",
            " -4.21106155e-01  9.49097726e+00  7.25670651e-01  1.63072836e-02\n",
            " -2.51405067e-02 -4.75659966e-01 -5.85422889e-01 -2.03710038e-01\n",
            " -4.51577653e-01 -4.95646648e-01 -1.39162886e-01 -3.65405568e-01\n",
            " -4.62062470e-01 -4.75823791e-01 -3.08066727e-01 -3.80149841e-01\n",
            "  1.52282248e-01 -4.55181809e-01  6.02801707e-01  5.48247896e-01\n",
            " -4.48464973e-01  1.58158078e-02 -4.88274511e-01 -2.60557402e-01\n",
            "  4.79932764e-01 -2.50400236e-01 -3.93747337e-01 -3.87380031e-02\n",
            " -1.11476418e-01 -6.60968212e-02 -1.07053136e-01 -3.91617609e-01\n",
            "  2.32392799e-01  1.33114693e-01 -4.75659966e-01 -4.57824892e-02\n",
            "  1.50971646e-01  2.34704923e+00  1.69649913e+00 -3.57891485e-02\n",
            "  6.42119769e-01 -3.83590171e-01 -4.32410098e-01 -9.60768434e-02\n",
            "  5.48247896e-01 -1.79136249e-01 -3.82443394e-01 -2.04114532e-03\n",
            " -3.39193526e-01  8.80627466e-02  9.77284368e-02  2.88912513e-01\n",
            " -1.37196983e-01 -2.84475890e-01 -5.00889056e-01 -3.92109085e-01\n",
            " -5.03018784e-01  1.38499047e-02  6.16563029e-01  6.71772141e-01\n",
            " -4.62062470e-01 -5.58719372e-01 -3.77364811e-01 -3.48531566e-01\n",
            " -3.64258791e-01 -3.88341104e-01 -2.45976954e-01 -6.39485224e-01\n",
            " -4.11931941e-01 -4.33884525e-01 -4.75659966e-01 -5.63634130e-01\n",
            "  3.33800634e-01 -1.40309663e-01 -5.30213777e-01 -5.22677815e-01\n",
            "  4.74526530e-01  1.23846228e+01 -2.51710839e-01  1.39667703e-01\n",
            "  1.13455662e-01 -5.16124805e-01 -5.33162632e-01 -3.94566463e-01\n",
            " -4.59277440e-01 -6.23102698e-01 -7.17302222e-01 -3.53446324e-01\n",
            "  6.97143177e-02 -4.39618409e-01 -5.87061142e-01  3.02510009e-01\n",
            "  1.55249673e+00 -4.48464973e-01 -1.30643973e-01  8.70797950e-02\n",
            " -4.06853358e-01 -4.40109885e-01  5.27605914e-01  1.79641066e-01\n",
            "  1.22419091e+00 -4.87946861e-01 -2.70878394e-01  7.60729256e-01\n",
            " -5.69695664e-01 -5.22677815e-01  8.21180776e-01  2.84816881e-01\n",
            " -2.85622667e-01  4.09160252e-01 -1.14097622e-01  5.29410180e+00\n",
            "  3.16107506e-01 -3.17404767e-01 -1.23108011e-01 -3.05445523e-01\n",
            " -3.38046749e-01 -4.31590972e-01 -5.06950590e-01 -5.64453256e-01\n",
            " -2.38440993e-01 -4.78444996e-01  2.75478842e-01 -2.53021441e-01\n",
            " -1.80610677e-01 -2.77759055e-01 -1.71927938e-01  4.80096589e-01\n",
            " -5.43975099e-01  3.82784386e-01 -3.91289958e-01 -3.48061969e-02\n",
            " -2.02727086e-01  9.77284368e-02 -4.02430076e-01  1.84934810e+00\n",
            " -8.50819807e-01 -1.75368268e-01 -3.20025971e-01 -4.50594702e-01\n",
            " -1.16718826e-01 -4.75659966e-01  2.10582161e-02  1.82198928e+00\n",
            "  2.12406117e-01 -4.14553145e-01  1.84525246e+00 -4.02430076e-01\n",
            " -1.72583239e-01 -3.78183938e-01 -5.43975099e-01  8.89495909e-01\n",
            "  4.79932764e-01 -5.64453256e-01 -3.04134921e-01  2.11818534e+00\n",
            " -1.34411954e-01 -4.86308608e-01 -4.43058740e-01 -1.15430103e-02\n",
            " -2.80544084e-01  1.94289232e+00 -2.95943658e-01 -3.40340303e-01\n",
            " -4.59277440e-01 -1.27531293e-01 -4.10948989e-01  1.44090985e-01\n",
            " -7.79555820e-01 -3.67699121e-01 -8.82132310e-02 -2.21730816e-01\n",
            " -2.60393577e-01 -3.10196456e-01  2.52774849e+00 -2.98237212e-01\n",
            " -4.79100297e-01  1.28742746e+00 -2.95779833e-01  1.08377079e-01\n",
            " -3.47384789e-01 -5.36275312e-01  6.74207641e-02 -3.17404767e-01\n",
            " -5.52494012e-01 -3.81624268e-01 -1.18029428e-01 -3.28217234e-01\n",
            " -5.26118146e-01 -4.75659966e-01  4.48128785e-02  4.16860039e-01\n",
            " -1.18520904e-01  1.98171890e+00 -2.66782762e-01 -1.94066227e-02\n",
            " -4.46335245e-01  2.26003614e-01 -7.17302222e-01 -1.83887182e-01\n",
            " -2.97418085e-01  9.57811041e-01  2.09066270e+00 -4.67468703e-01\n",
            "  1.19517196e-01 -2.92667153e-01 -4.07344834e-01  1.66043569e-01\n",
            " -1.30316322e-01 -5.34964710e-01 -2.86933269e-01 -5.18418359e-01\n",
            " -3.90962308e-01 -4.31754797e-01 -3.35097895e-01 -4.71400509e-01\n",
            " -6.60968212e-02 -4.28969768e-01  2.01429825e-01 -4.76970568e-01\n",
            " -3.39193526e-01 -4.83195928e-01 -2.96598959e-01  1.05733996e-02\n",
            " -4.48301148e-01  7.75801180e-01 -2.48434333e-01 -2.00433533e-01\n",
            " -2.83165288e-01  2.30674822e+00  8.51138919e-02  6.49633852e-02\n",
            "  5.56275334e-01 -1.53415684e-01 -3.39193526e-01 -3.28217234e-01\n",
            " -4.95646648e-01 -3.66552344e-01 -3.25432205e-01 -4.70930913e-02\n",
            "  1.84508864e+00  1.18206594e-01  1.64241492e-01 -3.67699121e-01\n",
            " -3.79494540e-01 -3.56231353e-01 -5.93286501e-01 -3.63931140e-01\n",
            "  1.86194076e-01 -5.84439938e-01 -3.66552344e-01 -5.77231626e-01\n",
            " -4.28642117e-01 -1.83559531e-01 -5.08916494e-01 -5.30541428e-01\n",
            " -1.07053136e-01 -4.38635458e-01 -3.93747337e-01  9.77284368e-02\n",
            "  6.47689828e-01 -2.53021441e-01  1.75564005e+00 -2.57280897e-01\n",
            "  1.60473511e-01 -3.95877066e-01  7.46967934e-01  6.16868800e-02\n",
            " -8.17071804e-01 -4.11112815e-01  4.90723352e-02 -2.83001463e-01\n",
            "  1.08067998e+00 -4.92042492e-01 -3.28217234e-01 -2.32051808e-01\n",
            " -3.55739877e-01 -4.10129863e-01 -2.12556602e-01  4.37174371e-01\n",
            "  3.57063820e-01 -1.34411954e-01]' has dtype incompatible with int64, please explicitly cast to a compatible dtype first.\n",
            "  data.loc[:,num_feature] = stdclr.fit_transform(data[num_feature]) #selecting the numerical columns to be scaled\n"
          ]
        },
        {
          "output_type": "execute_result",
          "data": {
            "text/plain": [
              "   Gender  Married  Dependents  Education  Self_Employed  ApplicantIncome  \\\n",
              "0       1        0           0          0              0         0.072991   \n",
              "1       1        1           1          0              0        -0.134412   \n",
              "2       1        1           0          0              1        -0.393747   \n",
              "3       1        1           0          1              0        -0.462062   \n",
              "4       1        0           0          0              0         0.097728   \n",
              "\n",
              "   CoapplicantIncome  LoanAmount  Loan_Amount_Term  Credit_History  \\\n",
              "0          -0.554487   -0.211241          0.273231        0.411733   \n",
              "1          -0.038732   -0.211241          0.273231        0.411733   \n",
              "2          -0.554487   -0.948996          0.273231        0.411733   \n",
              "3           0.251980   -0.306435          0.273231        0.411733   \n",
              "4          -0.554487   -0.056551          0.273231        0.411733   \n",
              "\n",
              "   Property_Area  Loan_Status  \n",
              "0              2            1  \n",
              "1              0            0  \n",
              "2              2            1  \n",
              "3              2            1  \n",
              "4              2            1  "
            ],
            "text/html": [
              "\n",
              "  <div id=\"df-56fcccab-d241-46fb-b92e-ee958791b27e\" class=\"colab-df-container\">\n",
              "    <div>\n",
              "<style scoped>\n",
              "    .dataframe tbody tr th:only-of-type {\n",
              "        vertical-align: middle;\n",
              "    }\n",
              "\n",
              "    .dataframe tbody tr th {\n",
              "        vertical-align: top;\n",
              "    }\n",
              "\n",
              "    .dataframe thead th {\n",
              "        text-align: right;\n",
              "    }\n",
              "</style>\n",
              "<table border=\"1\" class=\"dataframe\">\n",
              "  <thead>\n",
              "    <tr style=\"text-align: right;\">\n",
              "      <th></th>\n",
              "      <th>Gender</th>\n",
              "      <th>Married</th>\n",
              "      <th>Dependents</th>\n",
              "      <th>Education</th>\n",
              "      <th>Self_Employed</th>\n",
              "      <th>ApplicantIncome</th>\n",
              "      <th>CoapplicantIncome</th>\n",
              "      <th>LoanAmount</th>\n",
              "      <th>Loan_Amount_Term</th>\n",
              "      <th>Credit_History</th>\n",
              "      <th>Property_Area</th>\n",
              "      <th>Loan_Status</th>\n",
              "    </tr>\n",
              "  </thead>\n",
              "  <tbody>\n",
              "    <tr>\n",
              "      <th>0</th>\n",
              "      <td>1</td>\n",
              "      <td>0</td>\n",
              "      <td>0</td>\n",
              "      <td>0</td>\n",
              "      <td>0</td>\n",
              "      <td>0.072991</td>\n",
              "      <td>-0.554487</td>\n",
              "      <td>-0.211241</td>\n",
              "      <td>0.273231</td>\n",
              "      <td>0.411733</td>\n",
              "      <td>2</td>\n",
              "      <td>1</td>\n",
              "    </tr>\n",
              "    <tr>\n",
              "      <th>1</th>\n",
              "      <td>1</td>\n",
              "      <td>1</td>\n",
              "      <td>1</td>\n",
              "      <td>0</td>\n",
              "      <td>0</td>\n",
              "      <td>-0.134412</td>\n",
              "      <td>-0.038732</td>\n",
              "      <td>-0.211241</td>\n",
              "      <td>0.273231</td>\n",
              "      <td>0.411733</td>\n",
              "      <td>0</td>\n",
              "      <td>0</td>\n",
              "    </tr>\n",
              "    <tr>\n",
              "      <th>2</th>\n",
              "      <td>1</td>\n",
              "      <td>1</td>\n",
              "      <td>0</td>\n",
              "      <td>0</td>\n",
              "      <td>1</td>\n",
              "      <td>-0.393747</td>\n",
              "      <td>-0.554487</td>\n",
              "      <td>-0.948996</td>\n",
              "      <td>0.273231</td>\n",
              "      <td>0.411733</td>\n",
              "      <td>2</td>\n",
              "      <td>1</td>\n",
              "    </tr>\n",
              "    <tr>\n",
              "      <th>3</th>\n",
              "      <td>1</td>\n",
              "      <td>1</td>\n",
              "      <td>0</td>\n",
              "      <td>1</td>\n",
              "      <td>0</td>\n",
              "      <td>-0.462062</td>\n",
              "      <td>0.251980</td>\n",
              "      <td>-0.306435</td>\n",
              "      <td>0.273231</td>\n",
              "      <td>0.411733</td>\n",
              "      <td>2</td>\n",
              "      <td>1</td>\n",
              "    </tr>\n",
              "    <tr>\n",
              "      <th>4</th>\n",
              "      <td>1</td>\n",
              "      <td>0</td>\n",
              "      <td>0</td>\n",
              "      <td>0</td>\n",
              "      <td>0</td>\n",
              "      <td>0.097728</td>\n",
              "      <td>-0.554487</td>\n",
              "      <td>-0.056551</td>\n",
              "      <td>0.273231</td>\n",
              "      <td>0.411733</td>\n",
              "      <td>2</td>\n",
              "      <td>1</td>\n",
              "    </tr>\n",
              "  </tbody>\n",
              "</table>\n",
              "</div>\n",
              "    <div class=\"colab-df-buttons\">\n",
              "\n",
              "  <div class=\"colab-df-container\">\n",
              "    <button class=\"colab-df-convert\" onclick=\"convertToInteractive('df-56fcccab-d241-46fb-b92e-ee958791b27e')\"\n",
              "            title=\"Convert this dataframe to an interactive table.\"\n",
              "            style=\"display:none;\">\n",
              "\n",
              "  <svg xmlns=\"http://www.w3.org/2000/svg\" height=\"24px\" viewBox=\"0 -960 960 960\">\n",
              "    <path d=\"M120-120v-720h720v720H120Zm60-500h600v-160H180v160Zm220 220h160v-160H400v160Zm0 220h160v-160H400v160ZM180-400h160v-160H180v160Zm440 0h160v-160H620v160ZM180-180h160v-160H180v160Zm440 0h160v-160H620v160Z\"/>\n",
              "  </svg>\n",
              "    </button>\n",
              "\n",
              "  <style>\n",
              "    .colab-df-container {\n",
              "      display:flex;\n",
              "      gap: 12px;\n",
              "    }\n",
              "\n",
              "    .colab-df-convert {\n",
              "      background-color: #E8F0FE;\n",
              "      border: none;\n",
              "      border-radius: 50%;\n",
              "      cursor: pointer;\n",
              "      display: none;\n",
              "      fill: #1967D2;\n",
              "      height: 32px;\n",
              "      padding: 0 0 0 0;\n",
              "      width: 32px;\n",
              "    }\n",
              "\n",
              "    .colab-df-convert:hover {\n",
              "      background-color: #E2EBFA;\n",
              "      box-shadow: 0px 1px 2px rgba(60, 64, 67, 0.3), 0px 1px 3px 1px rgba(60, 64, 67, 0.15);\n",
              "      fill: #174EA6;\n",
              "    }\n",
              "\n",
              "    .colab-df-buttons div {\n",
              "      margin-bottom: 4px;\n",
              "    }\n",
              "\n",
              "    [theme=dark] .colab-df-convert {\n",
              "      background-color: #3B4455;\n",
              "      fill: #D2E3FC;\n",
              "    }\n",
              "\n",
              "    [theme=dark] .colab-df-convert:hover {\n",
              "      background-color: #434B5C;\n",
              "      box-shadow: 0px 1px 3px 1px rgba(0, 0, 0, 0.15);\n",
              "      filter: drop-shadow(0px 1px 2px rgba(0, 0, 0, 0.3));\n",
              "      fill: #FFFFFF;\n",
              "    }\n",
              "  </style>\n",
              "\n",
              "    <script>\n",
              "      const buttonEl =\n",
              "        document.querySelector('#df-56fcccab-d241-46fb-b92e-ee958791b27e button.colab-df-convert');\n",
              "      buttonEl.style.display =\n",
              "        google.colab.kernel.accessAllowed ? 'block' : 'none';\n",
              "\n",
              "      async function convertToInteractive(key) {\n",
              "        const element = document.querySelector('#df-56fcccab-d241-46fb-b92e-ee958791b27e');\n",
              "        const dataTable =\n",
              "          await google.colab.kernel.invokeFunction('convertToInteractive',\n",
              "                                                    [key], {});\n",
              "        if (!dataTable) return;\n",
              "\n",
              "        const docLinkHtml = 'Like what you see? Visit the ' +\n",
              "          '<a target=\"_blank\" href=https://colab.research.google.com/notebooks/data_table.ipynb>data table notebook</a>'\n",
              "          + ' to learn more about interactive tables.';\n",
              "        element.innerHTML = '';\n",
              "        dataTable['output_type'] = 'display_data';\n",
              "        await google.colab.output.renderOutput(dataTable, element);\n",
              "        const docLink = document.createElement('div');\n",
              "        docLink.innerHTML = docLinkHtml;\n",
              "        element.appendChild(docLink);\n",
              "      }\n",
              "    </script>\n",
              "  </div>\n",
              "\n",
              "\n",
              "<div id=\"df-90a0a31f-7e53-4521-b7fc-573a025dfc09\">\n",
              "  <button class=\"colab-df-quickchart\" onclick=\"quickchart('df-90a0a31f-7e53-4521-b7fc-573a025dfc09')\"\n",
              "            title=\"Suggest charts\"\n",
              "            style=\"display:none;\">\n",
              "\n",
              "<svg xmlns=\"http://www.w3.org/2000/svg\" height=\"24px\"viewBox=\"0 0 24 24\"\n",
              "     width=\"24px\">\n",
              "    <g>\n",
              "        <path d=\"M19 3H5c-1.1 0-2 .9-2 2v14c0 1.1.9 2 2 2h14c1.1 0 2-.9 2-2V5c0-1.1-.9-2-2-2zM9 17H7v-7h2v7zm4 0h-2V7h2v10zm4 0h-2v-4h2v4z\"/>\n",
              "    </g>\n",
              "</svg>\n",
              "  </button>\n",
              "\n",
              "<style>\n",
              "  .colab-df-quickchart {\n",
              "      --bg-color: #E8F0FE;\n",
              "      --fill-color: #1967D2;\n",
              "      --hover-bg-color: #E2EBFA;\n",
              "      --hover-fill-color: #174EA6;\n",
              "      --disabled-fill-color: #AAA;\n",
              "      --disabled-bg-color: #DDD;\n",
              "  }\n",
              "\n",
              "  [theme=dark] .colab-df-quickchart {\n",
              "      --bg-color: #3B4455;\n",
              "      --fill-color: #D2E3FC;\n",
              "      --hover-bg-color: #434B5C;\n",
              "      --hover-fill-color: #FFFFFF;\n",
              "      --disabled-bg-color: #3B4455;\n",
              "      --disabled-fill-color: #666;\n",
              "  }\n",
              "\n",
              "  .colab-df-quickchart {\n",
              "    background-color: var(--bg-color);\n",
              "    border: none;\n",
              "    border-radius: 50%;\n",
              "    cursor: pointer;\n",
              "    display: none;\n",
              "    fill: var(--fill-color);\n",
              "    height: 32px;\n",
              "    padding: 0;\n",
              "    width: 32px;\n",
              "  }\n",
              "\n",
              "  .colab-df-quickchart:hover {\n",
              "    background-color: var(--hover-bg-color);\n",
              "    box-shadow: 0 1px 2px rgba(60, 64, 67, 0.3), 0 1px 3px 1px rgba(60, 64, 67, 0.15);\n",
              "    fill: var(--button-hover-fill-color);\n",
              "  }\n",
              "\n",
              "  .colab-df-quickchart-complete:disabled,\n",
              "  .colab-df-quickchart-complete:disabled:hover {\n",
              "    background-color: var(--disabled-bg-color);\n",
              "    fill: var(--disabled-fill-color);\n",
              "    box-shadow: none;\n",
              "  }\n",
              "\n",
              "  .colab-df-spinner {\n",
              "    border: 2px solid var(--fill-color);\n",
              "    border-color: transparent;\n",
              "    border-bottom-color: var(--fill-color);\n",
              "    animation:\n",
              "      spin 1s steps(1) infinite;\n",
              "  }\n",
              "\n",
              "  @keyframes spin {\n",
              "    0% {\n",
              "      border-color: transparent;\n",
              "      border-bottom-color: var(--fill-color);\n",
              "      border-left-color: var(--fill-color);\n",
              "    }\n",
              "    20% {\n",
              "      border-color: transparent;\n",
              "      border-left-color: var(--fill-color);\n",
              "      border-top-color: var(--fill-color);\n",
              "    }\n",
              "    30% {\n",
              "      border-color: transparent;\n",
              "      border-left-color: var(--fill-color);\n",
              "      border-top-color: var(--fill-color);\n",
              "      border-right-color: var(--fill-color);\n",
              "    }\n",
              "    40% {\n",
              "      border-color: transparent;\n",
              "      border-right-color: var(--fill-color);\n",
              "      border-top-color: var(--fill-color);\n",
              "    }\n",
              "    60% {\n",
              "      border-color: transparent;\n",
              "      border-right-color: var(--fill-color);\n",
              "    }\n",
              "    80% {\n",
              "      border-color: transparent;\n",
              "      border-right-color: var(--fill-color);\n",
              "      border-bottom-color: var(--fill-color);\n",
              "    }\n",
              "    90% {\n",
              "      border-color: transparent;\n",
              "      border-bottom-color: var(--fill-color);\n",
              "    }\n",
              "  }\n",
              "</style>\n",
              "\n",
              "  <script>\n",
              "    async function quickchart(key) {\n",
              "      const quickchartButtonEl =\n",
              "        document.querySelector('#' + key + ' button');\n",
              "      quickchartButtonEl.disabled = true;  // To prevent multiple clicks.\n",
              "      quickchartButtonEl.classList.add('colab-df-spinner');\n",
              "      try {\n",
              "        const charts = await google.colab.kernel.invokeFunction(\n",
              "            'suggestCharts', [key], {});\n",
              "      } catch (error) {\n",
              "        console.error('Error during call to suggestCharts:', error);\n",
              "      }\n",
              "      quickchartButtonEl.classList.remove('colab-df-spinner');\n",
              "      quickchartButtonEl.classList.add('colab-df-quickchart-complete');\n",
              "    }\n",
              "    (() => {\n",
              "      let quickchartButtonEl =\n",
              "        document.querySelector('#df-90a0a31f-7e53-4521-b7fc-573a025dfc09 button');\n",
              "      quickchartButtonEl.style.display =\n",
              "        google.colab.kernel.accessAllowed ? 'block' : 'none';\n",
              "    })();\n",
              "  </script>\n",
              "</div>\n",
              "\n",
              "    </div>\n",
              "  </div>\n"
            ],
            "application/vnd.google.colaboratory.intrinsic+json": {
              "type": "dataframe",
              "variable_name": "data",
              "summary": "{\n  \"name\": \"data\",\n  \"rows\": 614,\n  \"fields\": [\n    {\n      \"column\": \"Gender\",\n      \"properties\": {\n        \"dtype\": \"number\",\n        \"std\": 0,\n        \"min\": 0,\n        \"max\": 1,\n        \"num_unique_values\": 2,\n        \"samples\": [\n          0,\n          1\n        ],\n        \"semantic_type\": \"\",\n        \"description\": \"\"\n      }\n    },\n    {\n      \"column\": \"Married\",\n      \"properties\": {\n        \"dtype\": \"number\",\n        \"std\": 0,\n        \"min\": 0,\n        \"max\": 1,\n        \"num_unique_values\": 2,\n        \"samples\": [\n          1,\n          0\n        ],\n        \"semantic_type\": \"\",\n        \"description\": \"\"\n      }\n    },\n    {\n      \"column\": \"Dependents\",\n      \"properties\": {\n        \"dtype\": \"number\",\n        \"std\": 1,\n        \"min\": 0,\n        \"max\": 3,\n        \"num_unique_values\": 4,\n        \"samples\": [\n          1,\n          3\n        ],\n        \"semantic_type\": \"\",\n        \"description\": \"\"\n      }\n    },\n    {\n      \"column\": \"Education\",\n      \"properties\": {\n        \"dtype\": \"number\",\n        \"std\": 0,\n        \"min\": 0,\n        \"max\": 1,\n        \"num_unique_values\": 2,\n        \"samples\": [\n          1,\n          0\n        ],\n        \"semantic_type\": \"\",\n        \"description\": \"\"\n      }\n    },\n    {\n      \"column\": \"Self_Employed\",\n      \"properties\": {\n        \"dtype\": \"number\",\n        \"std\": 0,\n        \"min\": 0,\n        \"max\": 1,\n        \"num_unique_values\": 2,\n        \"samples\": [\n          1,\n          0\n        ],\n        \"semantic_type\": \"\",\n        \"description\": \"\"\n      }\n    },\n    {\n      \"column\": \"ApplicantIncome\",\n      \"properties\": {\n        \"dtype\": \"number\",\n        \"std\": 1.0008153283050325,\n        \"min\": -0.8606493225189494,\n        \"max\": 12.38462278717314,\n        \"num_unique_values\": 505,\n        \"samples\": [\n          0.47993276373473476,\n          -0.17389384096261998\n        ],\n        \"semantic_type\": \"\",\n        \"description\": \"\"\n      }\n    },\n    {\n      \"column\": \"CoapplicantIncome\",\n      \"properties\": {\n        \"dtype\": \"number\",\n        \"std\": 1.0008153283050334,\n        \"min\": -0.5544873301529852,\n        \"max\": 13.696173250494041,\n        \"num_unique_values\": 287,\n        \"samples\": [\n          0.07481680665529297,\n          0.14390345645707134\n        ],\n        \"semantic_type\": \"\",\n        \"description\": \"\"\n      }\n    },\n    {\n      \"column\": \"LoanAmount\",\n      \"properties\": {\n        \"dtype\": \"number\",\n        \"std\": 1.000815328305033,\n        \"min\": -1.627255298188799,\n        \"max\": 6.59514560674599,\n        \"num_unique_values\": 203,\n        \"samples\": [\n          -0.5444210256141742,\n          -0.9013993572321825\n        ],\n        \"semantic_type\": \"\",\n        \"description\": \"\"\n      }\n    },\n    {\n      \"column\": \"Loan_Amount_Term\",\n      \"properties\": {\n        \"dtype\": \"number\",\n        \"std\": 1.0008153283050283,\n        \"min\": -5.132498102294799,\n        \"max\": 2.1372759162519452,\n        \"num_unique_values\": 10,\n        \"samples\": [\n          -4.014071330210684,\n          -3.4548579441686273\n        ],\n        \"semantic_type\": \"\",\n        \"description\": \"\"\n      }\n    },\n    {\n      \"column\": \"Credit_History\",\n      \"properties\": {\n        \"dtype\": \"number\",\n        \"std\": 1.000815328305029,\n        \"min\": -2.428760260810931,\n        \"max\": 0.41173269183271005,\n        \"num_unique_values\": 2,\n        \"samples\": [\n          -2.428760260810931,\n          0.41173269183271005\n        ],\n        \"semantic_type\": \"\",\n        \"description\": \"\"\n      }\n    },\n    {\n      \"column\": \"Property_Area\",\n      \"properties\": {\n        \"dtype\": \"number\",\n        \"std\": 0,\n        \"min\": 0,\n        \"max\": 2,\n        \"num_unique_values\": 3,\n        \"samples\": [\n          2,\n          0\n        ],\n        \"semantic_type\": \"\",\n        \"description\": \"\"\n      }\n    },\n    {\n      \"column\": \"Loan_Status\",\n      \"properties\": {\n        \"dtype\": \"number\",\n        \"std\": 0,\n        \"min\": 0,\n        \"max\": 1,\n        \"num_unique_values\": 2,\n        \"samples\": [\n          0,\n          1\n        ],\n        \"semantic_type\": \"\",\n        \"description\": \"\"\n      }\n    }\n  ]\n}"
            }
          },
          "metadata": {},
          "execution_count": 73
        }
      ]
    },
    {
      "cell_type": "code",
      "source": [
        "# Save preprocessed data to a new CSV\n",
        "data.to_csv('/content/processed_loan_data.csv', index=False)\n",
        "print(\"\\nPreprocessed Data Saved Successfully\")"
      ],
      "metadata": {
        "colab": {
          "base_uri": "https://localhost:8080/"
        },
        "id": "nNkMOnF3Jlsd",
        "outputId": "9631d8d0-7008-4300-dbe2-0d4e681ee23f"
      },
      "execution_count": 74,
      "outputs": [
        {
          "output_type": "stream",
          "name": "stdout",
          "text": [
            "\n",
            "Preprocessed Data Saved Successfully\n"
          ]
        }
      ]
    },
    {
      "cell_type": "markdown",
      "source": [
        "# SPLITTING TARGET AND FEATURE COLUMNS"
      ],
      "metadata": {
        "id": "uXVjcnCXkbt2"
      }
    },
    {
      "cell_type": "code",
      "source": [
        "x = data.drop('Loan_Status',axis=1)\n",
        "y = data['Loan_Status']"
      ],
      "metadata": {
        "id": "wcp3CXdGkUtX"
      },
      "execution_count": 75,
      "outputs": []
    },
    {
      "cell_type": "markdown",
      "source": [
        "# TRAIN TEST DATA SPLIT"
      ],
      "metadata": {
        "id": "Y-6ucrlRmBQd"
      }
    },
    {
      "cell_type": "code",
      "source": [
        "from sklearn.model_selection import train_test_split\n",
        "\n",
        "x_train,x_test , y_train, y_test = train_test_split(x, y, test_size=0.2, random_state=42)"
      ],
      "metadata": {
        "id": "DZDBHtNImCRk"
      },
      "execution_count": 76,
      "outputs": []
    },
    {
      "cell_type": "markdown",
      "source": [
        "# APPLYING ENSEMBLE LEARNING TECHNIQUES"
      ],
      "metadata": {
        "id": "n1xhAZrcmGVF"
      }
    },
    {
      "cell_type": "code",
      "source": [
        "##IMPORTING METHODS THAT CAN CHECK THE ACCURACY\n",
        "from sklearn.metrics import accuracy_score, confusion_matrix, classification_report"
      ],
      "metadata": {
        "id": "-Nv_BtFGmEd4"
      },
      "execution_count": 77,
      "outputs": []
    },
    {
      "cell_type": "markdown",
      "source": [
        "BAGGING CLASSIFIER"
      ],
      "metadata": {
        "id": "f_U5zKE0tT5i"
      }
    },
    {
      "cell_type": "code",
      "source": [
        "from sklearn.ensemble import BaggingClassifier\n",
        "bc = BaggingClassifier()\n",
        "bc.fit(x_train, y_train)\n",
        "y_pred_bc = bc.predict(x_test)\n",
        "acc_bc = accuracy_score(y_test, y_pred_bc)\n",
        "print(\"Accuracy for Bagging Classifier = \",acc_bc)"
      ],
      "metadata": {
        "colab": {
          "base_uri": "https://localhost:8080/"
        },
        "id": "XDWa2vEqmJkt",
        "outputId": "f7977a80-fcec-415a-f6e3-394a84a73815"
      },
      "execution_count": 78,
      "outputs": [
        {
          "output_type": "stream",
          "name": "stdout",
          "text": [
            "Accuracy for Bagging Classifier =  0.7642276422764228\n"
          ]
        }
      ]
    },
    {
      "cell_type": "code",
      "source": [
        "from sklearn.svm import SVC\n",
        "bagg_clf = BaggingClassifier(estimator = SVC(), n_estimators=100, random_state=42)\n",
        "bagg_clf.fit(x_train, y_train)\n",
        "y_pred_bagg = bagg_clf.predict(x_test)\n",
        "acc_bagg = accuracy_score(y_test, y_pred_bagg)\n",
        "print(\"Accuracy for Bagging Classifier model with SVC estimator = \",acc_bagg)"
      ],
      "metadata": {
        "colab": {
          "base_uri": "https://localhost:8080/"
        },
        "id": "Ec9KdzICsGdH",
        "outputId": "c9cf7d57-0331-49b9-c889-e64181c60a43"
      },
      "execution_count": 80,
      "outputs": [
        {
          "output_type": "stream",
          "name": "stdout",
          "text": [
            "Accuracy for Bagging Classifier model with SVC estimator =  0.7804878048780488\n"
          ]
        }
      ]
    },
    {
      "cell_type": "markdown",
      "source": [
        "ADAPTIVE BOOSTING"
      ],
      "metadata": {
        "id": "EyI9CLYztWT6"
      }
    },
    {
      "cell_type": "code",
      "source": [
        "from sklearn.ensemble import AdaBoostClassifier\n",
        "abc = AdaBoostClassifier()\n",
        "abc.fit(x_train, y_train)\n",
        "y_pred_abc = abc.predict(x_test)\n",
        "acc_abc = accuracy_score(y_test, y_pred_abc)\n",
        "print(\"Accuracy for Adaptive Boosting = \",acc_abc)"
      ],
      "metadata": {
        "colab": {
          "base_uri": "https://localhost:8080/"
        },
        "id": "bFq8ErSxsK3i",
        "outputId": "a1714f02-d820-4bdc-a266-0d2c18526d4d"
      },
      "execution_count": 81,
      "outputs": [
        {
          "output_type": "stream",
          "name": "stderr",
          "text": [
            "/usr/local/lib/python3.10/dist-packages/sklearn/ensemble/_weight_boosting.py:527: FutureWarning: The SAMME.R algorithm (the default) is deprecated and will be removed in 1.6. Use the SAMME algorithm to circumvent this warning.\n",
            "  warnings.warn(\n"
          ]
        },
        {
          "output_type": "stream",
          "name": "stdout",
          "text": [
            "Accuracy for Adaptive Boosting =  0.7317073170731707\n"
          ]
        }
      ]
    },
    {
      "cell_type": "code",
      "source": [
        "abc_n = AdaBoostClassifier(n_estimators=100)\n",
        "abc_n.fit(x_train, y_train)\n",
        "y_pred_abc_n = abc_n.predict(x_test)\n",
        "acc_abc_n = accuracy_score(y_test, y_pred_abc_n)\n",
        "print(\"Accuracy for Ada Boost model with n estimators = \",acc_abc_n)"
      ],
      "metadata": {
        "colab": {
          "base_uri": "https://localhost:8080/"
        },
        "id": "WWvwlxAvsPzl",
        "outputId": "83fdaa87-40ff-4b12-da2d-64c9c089a7d1"
      },
      "execution_count": 82,
      "outputs": [
        {
          "output_type": "stream",
          "name": "stderr",
          "text": [
            "/usr/local/lib/python3.10/dist-packages/sklearn/ensemble/_weight_boosting.py:527: FutureWarning: The SAMME.R algorithm (the default) is deprecated and will be removed in 1.6. Use the SAMME algorithm to circumvent this warning.\n",
            "  warnings.warn(\n"
          ]
        },
        {
          "output_type": "stream",
          "name": "stdout",
          "text": [
            "Accuracy for Ada Boost model with n estimators =  0.7560975609756098\n"
          ]
        }
      ]
    },
    {
      "cell_type": "markdown",
      "source": [
        "GRADIENT BOOSTING"
      ],
      "metadata": {
        "id": "aUR9U34htgW7"
      }
    },
    {
      "cell_type": "code",
      "source": [
        "from sklearn.ensemble import GradientBoostingClassifier\n",
        "gb = GradientBoostingClassifier()\n",
        "gb.fit(x_train, y_train)\n",
        "y_pred_gb = gb.predict(x_test)\n",
        "acc_gb = accuracy_score(y_test, y_pred_gb)\n",
        "print(\"Accuracy for Gradient Boost model = \",acc_gb)"
      ],
      "metadata": {
        "colab": {
          "base_uri": "https://localhost:8080/"
        },
        "id": "S7Y1pVl1sR_F",
        "outputId": "f462bbf1-0305-491a-f9f5-3ac190cd5b9d"
      },
      "execution_count": 83,
      "outputs": [
        {
          "output_type": "stream",
          "name": "stdout",
          "text": [
            "Accuracy for Gradient Boost model =  0.7479674796747967\n"
          ]
        }
      ]
    },
    {
      "cell_type": "code",
      "source": [
        "gb1 = GradientBoostingClassifier(n_estimators=100)\n",
        "gb1.fit(x_train, y_train)\n",
        "y_pred_gb1 = gb1.predict(x_test)\n",
        "acc_gb1 = accuracy_score(y_test, y_pred_gb1)\n",
        "print(\"Accuracy of Gradient Boost with n estimators = \",acc_gb1)"
      ],
      "metadata": {
        "colab": {
          "base_uri": "https://localhost:8080/"
        },
        "id": "F8qPVyS1sUBp",
        "outputId": "d7c18abb-2672-4dde-bcfd-8ec8a57c6c9f"
      },
      "execution_count": 84,
      "outputs": [
        {
          "output_type": "stream",
          "name": "stdout",
          "text": [
            "Accuracy of Gradient Boost with n estimators =  0.7479674796747967\n"
          ]
        }
      ]
    },
    {
      "cell_type": "markdown",
      "source": [
        "XGBOOST"
      ],
      "metadata": {
        "id": "5DGaJgI_tj7D"
      }
    },
    {
      "cell_type": "code",
      "source": [
        "import xgboost as xgb\n",
        "xgb_model = xgb.XGBClassifier()\n",
        "xgb_model.fit(x_train, y_train)\n",
        "y_pred_xgb = xgb_model.predict(x_test)\n",
        "acc_xgb = accuracy_score(y_test, y_pred_xgb)\n",
        "print(\"Accuracy for XGBoost = \",acc_xgb)"
      ],
      "metadata": {
        "colab": {
          "base_uri": "https://localhost:8080/"
        },
        "id": "chjId490sWEa",
        "outputId": "c73db444-791f-4946-a664-ee9e36c67370"
      },
      "execution_count": 85,
      "outputs": [
        {
          "output_type": "stream",
          "name": "stdout",
          "text": [
            "Accuracy for XGBoost =  0.7398373983739838\n"
          ]
        }
      ]
    },
    {
      "cell_type": "markdown",
      "source": [
        "RANDOM FOREST"
      ],
      "metadata": {
        "id": "EbGbp2TOtoBr"
      }
    },
    {
      "cell_type": "code",
      "source": [
        "from sklearn.ensemble import RandomForestClassifier\n",
        "rf = RandomForestClassifier()\n",
        "rf.fit(x_train,y_train)\n",
        "y_pred_rf = rf.predict(x_test)\n",
        "acc_rf = accuracy_score(y_test,y_pred_rf)\n",
        "print(\"Accuracy for random forest = \",acc_rf)"
      ],
      "metadata": {
        "colab": {
          "base_uri": "https://localhost:8080/"
        },
        "id": "WRHjxkvcsYqs",
        "outputId": "3fe3ee0f-a99a-4c5f-c530-d20f62944edd"
      },
      "execution_count": 87,
      "outputs": [
        {
          "output_type": "stream",
          "name": "stdout",
          "text": [
            "Accuracy for random forest =  0.7804878048780488\n"
          ]
        }
      ]
    },
    {
      "cell_type": "code",
      "source": [
        "## Cross validation score is an estimate of a model's performance on data it hasn't seen before.\n",
        "from sklearn.model_selection import cross_val_score"
      ],
      "metadata": {
        "id": "ETyGdWtAsewo"
      },
      "execution_count": 88,
      "outputs": []
    },
    {
      "cell_type": "markdown",
      "source": [
        "# CROSS VALIDATION\n",
        "\n",
        "Cross validation is done to observe the performance of data on different models. The data is split in different set and then usual train test operations are done to evaluate the accuracy."
      ],
      "metadata": {
        "id": "yKPtxt1Isxu0"
      }
    },
    {
      "cell_type": "markdown",
      "source": [
        "K-Fold Cross Validation"
      ],
      "metadata": {
        "id": "pitSDboZtzEa"
      }
    },
    {
      "cell_type": "code",
      "source": [
        "from sklearn.model_selection import KFold\n",
        "kf = KFold(n_splits=10)\n",
        "for train_index, test_index in kf.split(x,y):\n",
        "     print(\"Training index\\n\", train_index)\n",
        "     print(\"Testing index\\n\", test_index)"
      ],
      "metadata": {
        "colab": {
          "base_uri": "https://localhost:8080/"
        },
        "id": "Rq0z6WoGsv6l",
        "outputId": "afed67f6-7f44-4f66-9160-8097330f524e"
      },
      "execution_count": 89,
      "outputs": [
        {
          "output_type": "stream",
          "name": "stdout",
          "text": [
            "Training index\n",
            " [ 62  63  64  65  66  67  68  69  70  71  72  73  74  75  76  77  78  79\n",
            "  80  81  82  83  84  85  86  87  88  89  90  91  92  93  94  95  96  97\n",
            "  98  99 100 101 102 103 104 105 106 107 108 109 110 111 112 113 114 115\n",
            " 116 117 118 119 120 121 122 123 124 125 126 127 128 129 130 131 132 133\n",
            " 134 135 136 137 138 139 140 141 142 143 144 145 146 147 148 149 150 151\n",
            " 152 153 154 155 156 157 158 159 160 161 162 163 164 165 166 167 168 169\n",
            " 170 171 172 173 174 175 176 177 178 179 180 181 182 183 184 185 186 187\n",
            " 188 189 190 191 192 193 194 195 196 197 198 199 200 201 202 203 204 205\n",
            " 206 207 208 209 210 211 212 213 214 215 216 217 218 219 220 221 222 223\n",
            " 224 225 226 227 228 229 230 231 232 233 234 235 236 237 238 239 240 241\n",
            " 242 243 244 245 246 247 248 249 250 251 252 253 254 255 256 257 258 259\n",
            " 260 261 262 263 264 265 266 267 268 269 270 271 272 273 274 275 276 277\n",
            " 278 279 280 281 282 283 284 285 286 287 288 289 290 291 292 293 294 295\n",
            " 296 297 298 299 300 301 302 303 304 305 306 307 308 309 310 311 312 313\n",
            " 314 315 316 317 318 319 320 321 322 323 324 325 326 327 328 329 330 331\n",
            " 332 333 334 335 336 337 338 339 340 341 342 343 344 345 346 347 348 349\n",
            " 350 351 352 353 354 355 356 357 358 359 360 361 362 363 364 365 366 367\n",
            " 368 369 370 371 372 373 374 375 376 377 378 379 380 381 382 383 384 385\n",
            " 386 387 388 389 390 391 392 393 394 395 396 397 398 399 400 401 402 403\n",
            " 404 405 406 407 408 409 410 411 412 413 414 415 416 417 418 419 420 421\n",
            " 422 423 424 425 426 427 428 429 430 431 432 433 434 435 436 437 438 439\n",
            " 440 441 442 443 444 445 446 447 448 449 450 451 452 453 454 455 456 457\n",
            " 458 459 460 461 462 463 464 465 466 467 468 469 470 471 472 473 474 475\n",
            " 476 477 478 479 480 481 482 483 484 485 486 487 488 489 490 491 492 493\n",
            " 494 495 496 497 498 499 500 501 502 503 504 505 506 507 508 509 510 511\n",
            " 512 513 514 515 516 517 518 519 520 521 522 523 524 525 526 527 528 529\n",
            " 530 531 532 533 534 535 536 537 538 539 540 541 542 543 544 545 546 547\n",
            " 548 549 550 551 552 553 554 555 556 557 558 559 560 561 562 563 564 565\n",
            " 566 567 568 569 570 571 572 573 574 575 576 577 578 579 580 581 582 583\n",
            " 584 585 586 587 588 589 590 591 592 593 594 595 596 597 598 599 600 601\n",
            " 602 603 604 605 606 607 608 609 610 611 612 613]\n",
            "Testing index\n",
            " [ 0  1  2  3  4  5  6  7  8  9 10 11 12 13 14 15 16 17 18 19 20 21 22 23\n",
            " 24 25 26 27 28 29 30 31 32 33 34 35 36 37 38 39 40 41 42 43 44 45 46 47\n",
            " 48 49 50 51 52 53 54 55 56 57 58 59 60 61]\n",
            "Training index\n",
            " [  0   1   2   3   4   5   6   7   8   9  10  11  12  13  14  15  16  17\n",
            "  18  19  20  21  22  23  24  25  26  27  28  29  30  31  32  33  34  35\n",
            "  36  37  38  39  40  41  42  43  44  45  46  47  48  49  50  51  52  53\n",
            "  54  55  56  57  58  59  60  61 124 125 126 127 128 129 130 131 132 133\n",
            " 134 135 136 137 138 139 140 141 142 143 144 145 146 147 148 149 150 151\n",
            " 152 153 154 155 156 157 158 159 160 161 162 163 164 165 166 167 168 169\n",
            " 170 171 172 173 174 175 176 177 178 179 180 181 182 183 184 185 186 187\n",
            " 188 189 190 191 192 193 194 195 196 197 198 199 200 201 202 203 204 205\n",
            " 206 207 208 209 210 211 212 213 214 215 216 217 218 219 220 221 222 223\n",
            " 224 225 226 227 228 229 230 231 232 233 234 235 236 237 238 239 240 241\n",
            " 242 243 244 245 246 247 248 249 250 251 252 253 254 255 256 257 258 259\n",
            " 260 261 262 263 264 265 266 267 268 269 270 271 272 273 274 275 276 277\n",
            " 278 279 280 281 282 283 284 285 286 287 288 289 290 291 292 293 294 295\n",
            " 296 297 298 299 300 301 302 303 304 305 306 307 308 309 310 311 312 313\n",
            " 314 315 316 317 318 319 320 321 322 323 324 325 326 327 328 329 330 331\n",
            " 332 333 334 335 336 337 338 339 340 341 342 343 344 345 346 347 348 349\n",
            " 350 351 352 353 354 355 356 357 358 359 360 361 362 363 364 365 366 367\n",
            " 368 369 370 371 372 373 374 375 376 377 378 379 380 381 382 383 384 385\n",
            " 386 387 388 389 390 391 392 393 394 395 396 397 398 399 400 401 402 403\n",
            " 404 405 406 407 408 409 410 411 412 413 414 415 416 417 418 419 420 421\n",
            " 422 423 424 425 426 427 428 429 430 431 432 433 434 435 436 437 438 439\n",
            " 440 441 442 443 444 445 446 447 448 449 450 451 452 453 454 455 456 457\n",
            " 458 459 460 461 462 463 464 465 466 467 468 469 470 471 472 473 474 475\n",
            " 476 477 478 479 480 481 482 483 484 485 486 487 488 489 490 491 492 493\n",
            " 494 495 496 497 498 499 500 501 502 503 504 505 506 507 508 509 510 511\n",
            " 512 513 514 515 516 517 518 519 520 521 522 523 524 525 526 527 528 529\n",
            " 530 531 532 533 534 535 536 537 538 539 540 541 542 543 544 545 546 547\n",
            " 548 549 550 551 552 553 554 555 556 557 558 559 560 561 562 563 564 565\n",
            " 566 567 568 569 570 571 572 573 574 575 576 577 578 579 580 581 582 583\n",
            " 584 585 586 587 588 589 590 591 592 593 594 595 596 597 598 599 600 601\n",
            " 602 603 604 605 606 607 608 609 610 611 612 613]\n",
            "Testing index\n",
            " [ 62  63  64  65  66  67  68  69  70  71  72  73  74  75  76  77  78  79\n",
            "  80  81  82  83  84  85  86  87  88  89  90  91  92  93  94  95  96  97\n",
            "  98  99 100 101 102 103 104 105 106 107 108 109 110 111 112 113 114 115\n",
            " 116 117 118 119 120 121 122 123]\n",
            "Training index\n",
            " [  0   1   2   3   4   5   6   7   8   9  10  11  12  13  14  15  16  17\n",
            "  18  19  20  21  22  23  24  25  26  27  28  29  30  31  32  33  34  35\n",
            "  36  37  38  39  40  41  42  43  44  45  46  47  48  49  50  51  52  53\n",
            "  54  55  56  57  58  59  60  61  62  63  64  65  66  67  68  69  70  71\n",
            "  72  73  74  75  76  77  78  79  80  81  82  83  84  85  86  87  88  89\n",
            "  90  91  92  93  94  95  96  97  98  99 100 101 102 103 104 105 106 107\n",
            " 108 109 110 111 112 113 114 115 116 117 118 119 120 121 122 123 186 187\n",
            " 188 189 190 191 192 193 194 195 196 197 198 199 200 201 202 203 204 205\n",
            " 206 207 208 209 210 211 212 213 214 215 216 217 218 219 220 221 222 223\n",
            " 224 225 226 227 228 229 230 231 232 233 234 235 236 237 238 239 240 241\n",
            " 242 243 244 245 246 247 248 249 250 251 252 253 254 255 256 257 258 259\n",
            " 260 261 262 263 264 265 266 267 268 269 270 271 272 273 274 275 276 277\n",
            " 278 279 280 281 282 283 284 285 286 287 288 289 290 291 292 293 294 295\n",
            " 296 297 298 299 300 301 302 303 304 305 306 307 308 309 310 311 312 313\n",
            " 314 315 316 317 318 319 320 321 322 323 324 325 326 327 328 329 330 331\n",
            " 332 333 334 335 336 337 338 339 340 341 342 343 344 345 346 347 348 349\n",
            " 350 351 352 353 354 355 356 357 358 359 360 361 362 363 364 365 366 367\n",
            " 368 369 370 371 372 373 374 375 376 377 378 379 380 381 382 383 384 385\n",
            " 386 387 388 389 390 391 392 393 394 395 396 397 398 399 400 401 402 403\n",
            " 404 405 406 407 408 409 410 411 412 413 414 415 416 417 418 419 420 421\n",
            " 422 423 424 425 426 427 428 429 430 431 432 433 434 435 436 437 438 439\n",
            " 440 441 442 443 444 445 446 447 448 449 450 451 452 453 454 455 456 457\n",
            " 458 459 460 461 462 463 464 465 466 467 468 469 470 471 472 473 474 475\n",
            " 476 477 478 479 480 481 482 483 484 485 486 487 488 489 490 491 492 493\n",
            " 494 495 496 497 498 499 500 501 502 503 504 505 506 507 508 509 510 511\n",
            " 512 513 514 515 516 517 518 519 520 521 522 523 524 525 526 527 528 529\n",
            " 530 531 532 533 534 535 536 537 538 539 540 541 542 543 544 545 546 547\n",
            " 548 549 550 551 552 553 554 555 556 557 558 559 560 561 562 563 564 565\n",
            " 566 567 568 569 570 571 572 573 574 575 576 577 578 579 580 581 582 583\n",
            " 584 585 586 587 588 589 590 591 592 593 594 595 596 597 598 599 600 601\n",
            " 602 603 604 605 606 607 608 609 610 611 612 613]\n",
            "Testing index\n",
            " [124 125 126 127 128 129 130 131 132 133 134 135 136 137 138 139 140 141\n",
            " 142 143 144 145 146 147 148 149 150 151 152 153 154 155 156 157 158 159\n",
            " 160 161 162 163 164 165 166 167 168 169 170 171 172 173 174 175 176 177\n",
            " 178 179 180 181 182 183 184 185]\n",
            "Training index\n",
            " [  0   1   2   3   4   5   6   7   8   9  10  11  12  13  14  15  16  17\n",
            "  18  19  20  21  22  23  24  25  26  27  28  29  30  31  32  33  34  35\n",
            "  36  37  38  39  40  41  42  43  44  45  46  47  48  49  50  51  52  53\n",
            "  54  55  56  57  58  59  60  61  62  63  64  65  66  67  68  69  70  71\n",
            "  72  73  74  75  76  77  78  79  80  81  82  83  84  85  86  87  88  89\n",
            "  90  91  92  93  94  95  96  97  98  99 100 101 102 103 104 105 106 107\n",
            " 108 109 110 111 112 113 114 115 116 117 118 119 120 121 122 123 124 125\n",
            " 126 127 128 129 130 131 132 133 134 135 136 137 138 139 140 141 142 143\n",
            " 144 145 146 147 148 149 150 151 152 153 154 155 156 157 158 159 160 161\n",
            " 162 163 164 165 166 167 168 169 170 171 172 173 174 175 176 177 178 179\n",
            " 180 181 182 183 184 185 248 249 250 251 252 253 254 255 256 257 258 259\n",
            " 260 261 262 263 264 265 266 267 268 269 270 271 272 273 274 275 276 277\n",
            " 278 279 280 281 282 283 284 285 286 287 288 289 290 291 292 293 294 295\n",
            " 296 297 298 299 300 301 302 303 304 305 306 307 308 309 310 311 312 313\n",
            " 314 315 316 317 318 319 320 321 322 323 324 325 326 327 328 329 330 331\n",
            " 332 333 334 335 336 337 338 339 340 341 342 343 344 345 346 347 348 349\n",
            " 350 351 352 353 354 355 356 357 358 359 360 361 362 363 364 365 366 367\n",
            " 368 369 370 371 372 373 374 375 376 377 378 379 380 381 382 383 384 385\n",
            " 386 387 388 389 390 391 392 393 394 395 396 397 398 399 400 401 402 403\n",
            " 404 405 406 407 408 409 410 411 412 413 414 415 416 417 418 419 420 421\n",
            " 422 423 424 425 426 427 428 429 430 431 432 433 434 435 436 437 438 439\n",
            " 440 441 442 443 444 445 446 447 448 449 450 451 452 453 454 455 456 457\n",
            " 458 459 460 461 462 463 464 465 466 467 468 469 470 471 472 473 474 475\n",
            " 476 477 478 479 480 481 482 483 484 485 486 487 488 489 490 491 492 493\n",
            " 494 495 496 497 498 499 500 501 502 503 504 505 506 507 508 509 510 511\n",
            " 512 513 514 515 516 517 518 519 520 521 522 523 524 525 526 527 528 529\n",
            " 530 531 532 533 534 535 536 537 538 539 540 541 542 543 544 545 546 547\n",
            " 548 549 550 551 552 553 554 555 556 557 558 559 560 561 562 563 564 565\n",
            " 566 567 568 569 570 571 572 573 574 575 576 577 578 579 580 581 582 583\n",
            " 584 585 586 587 588 589 590 591 592 593 594 595 596 597 598 599 600 601\n",
            " 602 603 604 605 606 607 608 609 610 611 612 613]\n",
            "Testing index\n",
            " [186 187 188 189 190 191 192 193 194 195 196 197 198 199 200 201 202 203\n",
            " 204 205 206 207 208 209 210 211 212 213 214 215 216 217 218 219 220 221\n",
            " 222 223 224 225 226 227 228 229 230 231 232 233 234 235 236 237 238 239\n",
            " 240 241 242 243 244 245 246 247]\n",
            "Training index\n",
            " [  0   1   2   3   4   5   6   7   8   9  10  11  12  13  14  15  16  17\n",
            "  18  19  20  21  22  23  24  25  26  27  28  29  30  31  32  33  34  35\n",
            "  36  37  38  39  40  41  42  43  44  45  46  47  48  49  50  51  52  53\n",
            "  54  55  56  57  58  59  60  61  62  63  64  65  66  67  68  69  70  71\n",
            "  72  73  74  75  76  77  78  79  80  81  82  83  84  85  86  87  88  89\n",
            "  90  91  92  93  94  95  96  97  98  99 100 101 102 103 104 105 106 107\n",
            " 108 109 110 111 112 113 114 115 116 117 118 119 120 121 122 123 124 125\n",
            " 126 127 128 129 130 131 132 133 134 135 136 137 138 139 140 141 142 143\n",
            " 144 145 146 147 148 149 150 151 152 153 154 155 156 157 158 159 160 161\n",
            " 162 163 164 165 166 167 168 169 170 171 172 173 174 175 176 177 178 179\n",
            " 180 181 182 183 184 185 186 187 188 189 190 191 192 193 194 195 196 197\n",
            " 198 199 200 201 202 203 204 205 206 207 208 209 210 211 212 213 214 215\n",
            " 216 217 218 219 220 221 222 223 224 225 226 227 228 229 230 231 232 233\n",
            " 234 235 236 237 238 239 240 241 242 243 244 245 246 247 309 310 311 312\n",
            " 313 314 315 316 317 318 319 320 321 322 323 324 325 326 327 328 329 330\n",
            " 331 332 333 334 335 336 337 338 339 340 341 342 343 344 345 346 347 348\n",
            " 349 350 351 352 353 354 355 356 357 358 359 360 361 362 363 364 365 366\n",
            " 367 368 369 370 371 372 373 374 375 376 377 378 379 380 381 382 383 384\n",
            " 385 386 387 388 389 390 391 392 393 394 395 396 397 398 399 400 401 402\n",
            " 403 404 405 406 407 408 409 410 411 412 413 414 415 416 417 418 419 420\n",
            " 421 422 423 424 425 426 427 428 429 430 431 432 433 434 435 436 437 438\n",
            " 439 440 441 442 443 444 445 446 447 448 449 450 451 452 453 454 455 456\n",
            " 457 458 459 460 461 462 463 464 465 466 467 468 469 470 471 472 473 474\n",
            " 475 476 477 478 479 480 481 482 483 484 485 486 487 488 489 490 491 492\n",
            " 493 494 495 496 497 498 499 500 501 502 503 504 505 506 507 508 509 510\n",
            " 511 512 513 514 515 516 517 518 519 520 521 522 523 524 525 526 527 528\n",
            " 529 530 531 532 533 534 535 536 537 538 539 540 541 542 543 544 545 546\n",
            " 547 548 549 550 551 552 553 554 555 556 557 558 559 560 561 562 563 564\n",
            " 565 566 567 568 569 570 571 572 573 574 575 576 577 578 579 580 581 582\n",
            " 583 584 585 586 587 588 589 590 591 592 593 594 595 596 597 598 599 600\n",
            " 601 602 603 604 605 606 607 608 609 610 611 612 613]\n",
            "Testing index\n",
            " [248 249 250 251 252 253 254 255 256 257 258 259 260 261 262 263 264 265\n",
            " 266 267 268 269 270 271 272 273 274 275 276 277 278 279 280 281 282 283\n",
            " 284 285 286 287 288 289 290 291 292 293 294 295 296 297 298 299 300 301\n",
            " 302 303 304 305 306 307 308]\n",
            "Training index\n",
            " [  0   1   2   3   4   5   6   7   8   9  10  11  12  13  14  15  16  17\n",
            "  18  19  20  21  22  23  24  25  26  27  28  29  30  31  32  33  34  35\n",
            "  36  37  38  39  40  41  42  43  44  45  46  47  48  49  50  51  52  53\n",
            "  54  55  56  57  58  59  60  61  62  63  64  65  66  67  68  69  70  71\n",
            "  72  73  74  75  76  77  78  79  80  81  82  83  84  85  86  87  88  89\n",
            "  90  91  92  93  94  95  96  97  98  99 100 101 102 103 104 105 106 107\n",
            " 108 109 110 111 112 113 114 115 116 117 118 119 120 121 122 123 124 125\n",
            " 126 127 128 129 130 131 132 133 134 135 136 137 138 139 140 141 142 143\n",
            " 144 145 146 147 148 149 150 151 152 153 154 155 156 157 158 159 160 161\n",
            " 162 163 164 165 166 167 168 169 170 171 172 173 174 175 176 177 178 179\n",
            " 180 181 182 183 184 185 186 187 188 189 190 191 192 193 194 195 196 197\n",
            " 198 199 200 201 202 203 204 205 206 207 208 209 210 211 212 213 214 215\n",
            " 216 217 218 219 220 221 222 223 224 225 226 227 228 229 230 231 232 233\n",
            " 234 235 236 237 238 239 240 241 242 243 244 245 246 247 248 249 250 251\n",
            " 252 253 254 255 256 257 258 259 260 261 262 263 264 265 266 267 268 269\n",
            " 270 271 272 273 274 275 276 277 278 279 280 281 282 283 284 285 286 287\n",
            " 288 289 290 291 292 293 294 295 296 297 298 299 300 301 302 303 304 305\n",
            " 306 307 308 370 371 372 373 374 375 376 377 378 379 380 381 382 383 384\n",
            " 385 386 387 388 389 390 391 392 393 394 395 396 397 398 399 400 401 402\n",
            " 403 404 405 406 407 408 409 410 411 412 413 414 415 416 417 418 419 420\n",
            " 421 422 423 424 425 426 427 428 429 430 431 432 433 434 435 436 437 438\n",
            " 439 440 441 442 443 444 445 446 447 448 449 450 451 452 453 454 455 456\n",
            " 457 458 459 460 461 462 463 464 465 466 467 468 469 470 471 472 473 474\n",
            " 475 476 477 478 479 480 481 482 483 484 485 486 487 488 489 490 491 492\n",
            " 493 494 495 496 497 498 499 500 501 502 503 504 505 506 507 508 509 510\n",
            " 511 512 513 514 515 516 517 518 519 520 521 522 523 524 525 526 527 528\n",
            " 529 530 531 532 533 534 535 536 537 538 539 540 541 542 543 544 545 546\n",
            " 547 548 549 550 551 552 553 554 555 556 557 558 559 560 561 562 563 564\n",
            " 565 566 567 568 569 570 571 572 573 574 575 576 577 578 579 580 581 582\n",
            " 583 584 585 586 587 588 589 590 591 592 593 594 595 596 597 598 599 600\n",
            " 601 602 603 604 605 606 607 608 609 610 611 612 613]\n",
            "Testing index\n",
            " [309 310 311 312 313 314 315 316 317 318 319 320 321 322 323 324 325 326\n",
            " 327 328 329 330 331 332 333 334 335 336 337 338 339 340 341 342 343 344\n",
            " 345 346 347 348 349 350 351 352 353 354 355 356 357 358 359 360 361 362\n",
            " 363 364 365 366 367 368 369]\n",
            "Training index\n",
            " [  0   1   2   3   4   5   6   7   8   9  10  11  12  13  14  15  16  17\n",
            "  18  19  20  21  22  23  24  25  26  27  28  29  30  31  32  33  34  35\n",
            "  36  37  38  39  40  41  42  43  44  45  46  47  48  49  50  51  52  53\n",
            "  54  55  56  57  58  59  60  61  62  63  64  65  66  67  68  69  70  71\n",
            "  72  73  74  75  76  77  78  79  80  81  82  83  84  85  86  87  88  89\n",
            "  90  91  92  93  94  95  96  97  98  99 100 101 102 103 104 105 106 107\n",
            " 108 109 110 111 112 113 114 115 116 117 118 119 120 121 122 123 124 125\n",
            " 126 127 128 129 130 131 132 133 134 135 136 137 138 139 140 141 142 143\n",
            " 144 145 146 147 148 149 150 151 152 153 154 155 156 157 158 159 160 161\n",
            " 162 163 164 165 166 167 168 169 170 171 172 173 174 175 176 177 178 179\n",
            " 180 181 182 183 184 185 186 187 188 189 190 191 192 193 194 195 196 197\n",
            " 198 199 200 201 202 203 204 205 206 207 208 209 210 211 212 213 214 215\n",
            " 216 217 218 219 220 221 222 223 224 225 226 227 228 229 230 231 232 233\n",
            " 234 235 236 237 238 239 240 241 242 243 244 245 246 247 248 249 250 251\n",
            " 252 253 254 255 256 257 258 259 260 261 262 263 264 265 266 267 268 269\n",
            " 270 271 272 273 274 275 276 277 278 279 280 281 282 283 284 285 286 287\n",
            " 288 289 290 291 292 293 294 295 296 297 298 299 300 301 302 303 304 305\n",
            " 306 307 308 309 310 311 312 313 314 315 316 317 318 319 320 321 322 323\n",
            " 324 325 326 327 328 329 330 331 332 333 334 335 336 337 338 339 340 341\n",
            " 342 343 344 345 346 347 348 349 350 351 352 353 354 355 356 357 358 359\n",
            " 360 361 362 363 364 365 366 367 368 369 431 432 433 434 435 436 437 438\n",
            " 439 440 441 442 443 444 445 446 447 448 449 450 451 452 453 454 455 456\n",
            " 457 458 459 460 461 462 463 464 465 466 467 468 469 470 471 472 473 474\n",
            " 475 476 477 478 479 480 481 482 483 484 485 486 487 488 489 490 491 492\n",
            " 493 494 495 496 497 498 499 500 501 502 503 504 505 506 507 508 509 510\n",
            " 511 512 513 514 515 516 517 518 519 520 521 522 523 524 525 526 527 528\n",
            " 529 530 531 532 533 534 535 536 537 538 539 540 541 542 543 544 545 546\n",
            " 547 548 549 550 551 552 553 554 555 556 557 558 559 560 561 562 563 564\n",
            " 565 566 567 568 569 570 571 572 573 574 575 576 577 578 579 580 581 582\n",
            " 583 584 585 586 587 588 589 590 591 592 593 594 595 596 597 598 599 600\n",
            " 601 602 603 604 605 606 607 608 609 610 611 612 613]\n",
            "Testing index\n",
            " [370 371 372 373 374 375 376 377 378 379 380 381 382 383 384 385 386 387\n",
            " 388 389 390 391 392 393 394 395 396 397 398 399 400 401 402 403 404 405\n",
            " 406 407 408 409 410 411 412 413 414 415 416 417 418 419 420 421 422 423\n",
            " 424 425 426 427 428 429 430]\n",
            "Training index\n",
            " [  0   1   2   3   4   5   6   7   8   9  10  11  12  13  14  15  16  17\n",
            "  18  19  20  21  22  23  24  25  26  27  28  29  30  31  32  33  34  35\n",
            "  36  37  38  39  40  41  42  43  44  45  46  47  48  49  50  51  52  53\n",
            "  54  55  56  57  58  59  60  61  62  63  64  65  66  67  68  69  70  71\n",
            "  72  73  74  75  76  77  78  79  80  81  82  83  84  85  86  87  88  89\n",
            "  90  91  92  93  94  95  96  97  98  99 100 101 102 103 104 105 106 107\n",
            " 108 109 110 111 112 113 114 115 116 117 118 119 120 121 122 123 124 125\n",
            " 126 127 128 129 130 131 132 133 134 135 136 137 138 139 140 141 142 143\n",
            " 144 145 146 147 148 149 150 151 152 153 154 155 156 157 158 159 160 161\n",
            " 162 163 164 165 166 167 168 169 170 171 172 173 174 175 176 177 178 179\n",
            " 180 181 182 183 184 185 186 187 188 189 190 191 192 193 194 195 196 197\n",
            " 198 199 200 201 202 203 204 205 206 207 208 209 210 211 212 213 214 215\n",
            " 216 217 218 219 220 221 222 223 224 225 226 227 228 229 230 231 232 233\n",
            " 234 235 236 237 238 239 240 241 242 243 244 245 246 247 248 249 250 251\n",
            " 252 253 254 255 256 257 258 259 260 261 262 263 264 265 266 267 268 269\n",
            " 270 271 272 273 274 275 276 277 278 279 280 281 282 283 284 285 286 287\n",
            " 288 289 290 291 292 293 294 295 296 297 298 299 300 301 302 303 304 305\n",
            " 306 307 308 309 310 311 312 313 314 315 316 317 318 319 320 321 322 323\n",
            " 324 325 326 327 328 329 330 331 332 333 334 335 336 337 338 339 340 341\n",
            " 342 343 344 345 346 347 348 349 350 351 352 353 354 355 356 357 358 359\n",
            " 360 361 362 363 364 365 366 367 368 369 370 371 372 373 374 375 376 377\n",
            " 378 379 380 381 382 383 384 385 386 387 388 389 390 391 392 393 394 395\n",
            " 396 397 398 399 400 401 402 403 404 405 406 407 408 409 410 411 412 413\n",
            " 414 415 416 417 418 419 420 421 422 423 424 425 426 427 428 429 430 492\n",
            " 493 494 495 496 497 498 499 500 501 502 503 504 505 506 507 508 509 510\n",
            " 511 512 513 514 515 516 517 518 519 520 521 522 523 524 525 526 527 528\n",
            " 529 530 531 532 533 534 535 536 537 538 539 540 541 542 543 544 545 546\n",
            " 547 548 549 550 551 552 553 554 555 556 557 558 559 560 561 562 563 564\n",
            " 565 566 567 568 569 570 571 572 573 574 575 576 577 578 579 580 581 582\n",
            " 583 584 585 586 587 588 589 590 591 592 593 594 595 596 597 598 599 600\n",
            " 601 602 603 604 605 606 607 608 609 610 611 612 613]\n",
            "Testing index\n",
            " [431 432 433 434 435 436 437 438 439 440 441 442 443 444 445 446 447 448\n",
            " 449 450 451 452 453 454 455 456 457 458 459 460 461 462 463 464 465 466\n",
            " 467 468 469 470 471 472 473 474 475 476 477 478 479 480 481 482 483 484\n",
            " 485 486 487 488 489 490 491]\n",
            "Training index\n",
            " [  0   1   2   3   4   5   6   7   8   9  10  11  12  13  14  15  16  17\n",
            "  18  19  20  21  22  23  24  25  26  27  28  29  30  31  32  33  34  35\n",
            "  36  37  38  39  40  41  42  43  44  45  46  47  48  49  50  51  52  53\n",
            "  54  55  56  57  58  59  60  61  62  63  64  65  66  67  68  69  70  71\n",
            "  72  73  74  75  76  77  78  79  80  81  82  83  84  85  86  87  88  89\n",
            "  90  91  92  93  94  95  96  97  98  99 100 101 102 103 104 105 106 107\n",
            " 108 109 110 111 112 113 114 115 116 117 118 119 120 121 122 123 124 125\n",
            " 126 127 128 129 130 131 132 133 134 135 136 137 138 139 140 141 142 143\n",
            " 144 145 146 147 148 149 150 151 152 153 154 155 156 157 158 159 160 161\n",
            " 162 163 164 165 166 167 168 169 170 171 172 173 174 175 176 177 178 179\n",
            " 180 181 182 183 184 185 186 187 188 189 190 191 192 193 194 195 196 197\n",
            " 198 199 200 201 202 203 204 205 206 207 208 209 210 211 212 213 214 215\n",
            " 216 217 218 219 220 221 222 223 224 225 226 227 228 229 230 231 232 233\n",
            " 234 235 236 237 238 239 240 241 242 243 244 245 246 247 248 249 250 251\n",
            " 252 253 254 255 256 257 258 259 260 261 262 263 264 265 266 267 268 269\n",
            " 270 271 272 273 274 275 276 277 278 279 280 281 282 283 284 285 286 287\n",
            " 288 289 290 291 292 293 294 295 296 297 298 299 300 301 302 303 304 305\n",
            " 306 307 308 309 310 311 312 313 314 315 316 317 318 319 320 321 322 323\n",
            " 324 325 326 327 328 329 330 331 332 333 334 335 336 337 338 339 340 341\n",
            " 342 343 344 345 346 347 348 349 350 351 352 353 354 355 356 357 358 359\n",
            " 360 361 362 363 364 365 366 367 368 369 370 371 372 373 374 375 376 377\n",
            " 378 379 380 381 382 383 384 385 386 387 388 389 390 391 392 393 394 395\n",
            " 396 397 398 399 400 401 402 403 404 405 406 407 408 409 410 411 412 413\n",
            " 414 415 416 417 418 419 420 421 422 423 424 425 426 427 428 429 430 431\n",
            " 432 433 434 435 436 437 438 439 440 441 442 443 444 445 446 447 448 449\n",
            " 450 451 452 453 454 455 456 457 458 459 460 461 462 463 464 465 466 467\n",
            " 468 469 470 471 472 473 474 475 476 477 478 479 480 481 482 483 484 485\n",
            " 486 487 488 489 490 491 553 554 555 556 557 558 559 560 561 562 563 564\n",
            " 565 566 567 568 569 570 571 572 573 574 575 576 577 578 579 580 581 582\n",
            " 583 584 585 586 587 588 589 590 591 592 593 594 595 596 597 598 599 600\n",
            " 601 602 603 604 605 606 607 608 609 610 611 612 613]\n",
            "Testing index\n",
            " [492 493 494 495 496 497 498 499 500 501 502 503 504 505 506 507 508 509\n",
            " 510 511 512 513 514 515 516 517 518 519 520 521 522 523 524 525 526 527\n",
            " 528 529 530 531 532 533 534 535 536 537 538 539 540 541 542 543 544 545\n",
            " 546 547 548 549 550 551 552]\n",
            "Training index\n",
            " [  0   1   2   3   4   5   6   7   8   9  10  11  12  13  14  15  16  17\n",
            "  18  19  20  21  22  23  24  25  26  27  28  29  30  31  32  33  34  35\n",
            "  36  37  38  39  40  41  42  43  44  45  46  47  48  49  50  51  52  53\n",
            "  54  55  56  57  58  59  60  61  62  63  64  65  66  67  68  69  70  71\n",
            "  72  73  74  75  76  77  78  79  80  81  82  83  84  85  86  87  88  89\n",
            "  90  91  92  93  94  95  96  97  98  99 100 101 102 103 104 105 106 107\n",
            " 108 109 110 111 112 113 114 115 116 117 118 119 120 121 122 123 124 125\n",
            " 126 127 128 129 130 131 132 133 134 135 136 137 138 139 140 141 142 143\n",
            " 144 145 146 147 148 149 150 151 152 153 154 155 156 157 158 159 160 161\n",
            " 162 163 164 165 166 167 168 169 170 171 172 173 174 175 176 177 178 179\n",
            " 180 181 182 183 184 185 186 187 188 189 190 191 192 193 194 195 196 197\n",
            " 198 199 200 201 202 203 204 205 206 207 208 209 210 211 212 213 214 215\n",
            " 216 217 218 219 220 221 222 223 224 225 226 227 228 229 230 231 232 233\n",
            " 234 235 236 237 238 239 240 241 242 243 244 245 246 247 248 249 250 251\n",
            " 252 253 254 255 256 257 258 259 260 261 262 263 264 265 266 267 268 269\n",
            " 270 271 272 273 274 275 276 277 278 279 280 281 282 283 284 285 286 287\n",
            " 288 289 290 291 292 293 294 295 296 297 298 299 300 301 302 303 304 305\n",
            " 306 307 308 309 310 311 312 313 314 315 316 317 318 319 320 321 322 323\n",
            " 324 325 326 327 328 329 330 331 332 333 334 335 336 337 338 339 340 341\n",
            " 342 343 344 345 346 347 348 349 350 351 352 353 354 355 356 357 358 359\n",
            " 360 361 362 363 364 365 366 367 368 369 370 371 372 373 374 375 376 377\n",
            " 378 379 380 381 382 383 384 385 386 387 388 389 390 391 392 393 394 395\n",
            " 396 397 398 399 400 401 402 403 404 405 406 407 408 409 410 411 412 413\n",
            " 414 415 416 417 418 419 420 421 422 423 424 425 426 427 428 429 430 431\n",
            " 432 433 434 435 436 437 438 439 440 441 442 443 444 445 446 447 448 449\n",
            " 450 451 452 453 454 455 456 457 458 459 460 461 462 463 464 465 466 467\n",
            " 468 469 470 471 472 473 474 475 476 477 478 479 480 481 482 483 484 485\n",
            " 486 487 488 489 490 491 492 493 494 495 496 497 498 499 500 501 502 503\n",
            " 504 505 506 507 508 509 510 511 512 513 514 515 516 517 518 519 520 521\n",
            " 522 523 524 525 526 527 528 529 530 531 532 533 534 535 536 537 538 539\n",
            " 540 541 542 543 544 545 546 547 548 549 550 551 552]\n",
            "Testing index\n",
            " [553 554 555 556 557 558 559 560 561 562 563 564 565 566 567 568 569 570\n",
            " 571 572 573 574 575 576 577 578 579 580 581 582 583 584 585 586 587 588\n",
            " 589 590 591 592 593 594 595 596 597 598 599 600 601 602 603 604 605 606\n",
            " 607 608 609 610 611 612 613]\n"
          ]
        }
      ]
    },
    {
      "cell_type": "code",
      "source": [
        "from sklearn.ensemble import BaggingClassifier\n",
        "from sklearn.model_selection import cross_val_score, KFold\n",
        "import numpy as np\n",
        "\n",
        "# Bagging Classifier with Cross-Validation\n",
        "kf = KFold(n_splits=5, shuffle=True, random_state=42)\n",
        "bc = BaggingClassifier(random_state=42)\n",
        "\n",
        "# Cross-validation\n",
        "cv_bagg = cross_val_score(bc, x, y, cv=kf)\n",
        "print(\"Cross-validation scores for Bagging Classifier:\", cv_bagg)\n",
        "\n",
        "# Calculate mean cross-validation score\n",
        "mean_bagg = np.mean(cv_bagg)\n",
        "print(f\"\\nMean Cross-validation Score of Bagging Classifier: {mean_bagg:.4f}\")\n",
        "\n",
        "# Note: A lower mean score doesn't necessarily indicate a better model but can suggest consistency.\n"
      ],
      "metadata": {
        "colab": {
          "base_uri": "https://localhost:8080/"
        },
        "id": "_hDq3oQltHeq",
        "outputId": "9e4b8029-8319-4135-c153-039848ee8310"
      },
      "execution_count": 91,
      "outputs": [
        {
          "output_type": "stream",
          "name": "stdout",
          "text": [
            "Cross-validation scores for Bagging Classifier: [0.70731707 0.73170732 0.76422764 0.71544715 0.75409836]\n",
            "\n",
            "Mean Cross-validation Score of Bagging Classifier: 0.7346\n"
          ]
        }
      ]
    },
    {
      "cell_type": "code",
      "source": [
        "from sklearn.ensemble import AdaBoostClassifier\n",
        "from sklearn.model_selection import cross_val_score, KFold\n",
        "import numpy as np\n",
        "\n",
        "# Adaptive Boosting Classifier with Cross-Validation\n",
        "kf = KFold(n_splits=5, shuffle=True, random_state=42)\n",
        "abc = AdaBoostClassifier(random_state=42)\n",
        "# Cross-validation\n",
        "cv_abc = cross_val_score(abc, x, y, cv=kf)\n",
        "print(\"Cross-validation scores for Adaptive Boosting Classifier:\", cv_abc)\n",
        "\n",
        "# Calculate mean cross-validation score\n",
        "mean_abc = np.mean(cv_abc)\n",
        "print(f\"\\nMean Cross-validation Score of Adaptive Boosting Classifier: {mean_abc:.4f}\")\n",
        "\n",
        "# Note: Cross-validation ensures a robust estimate of model performance.\n"
      ],
      "metadata": {
        "colab": {
          "base_uri": "https://localhost:8080/"
        },
        "id": "NyP8Y9ekt3qC",
        "outputId": "f4353134-a0c1-4cea-ca0d-a3b87de34694"
      },
      "execution_count": 93,
      "outputs": [
        {
          "output_type": "stream",
          "name": "stderr",
          "text": [
            "/usr/local/lib/python3.10/dist-packages/sklearn/ensemble/_weight_boosting.py:527: FutureWarning: The SAMME.R algorithm (the default) is deprecated and will be removed in 1.6. Use the SAMME algorithm to circumvent this warning.\n",
            "  warnings.warn(\n",
            "/usr/local/lib/python3.10/dist-packages/sklearn/ensemble/_weight_boosting.py:527: FutureWarning: The SAMME.R algorithm (the default) is deprecated and will be removed in 1.6. Use the SAMME algorithm to circumvent this warning.\n",
            "  warnings.warn(\n",
            "/usr/local/lib/python3.10/dist-packages/sklearn/ensemble/_weight_boosting.py:527: FutureWarning: The SAMME.R algorithm (the default) is deprecated and will be removed in 1.6. Use the SAMME algorithm to circumvent this warning.\n",
            "  warnings.warn(\n",
            "/usr/local/lib/python3.10/dist-packages/sklearn/ensemble/_weight_boosting.py:527: FutureWarning: The SAMME.R algorithm (the default) is deprecated and will be removed in 1.6. Use the SAMME algorithm to circumvent this warning.\n",
            "  warnings.warn(\n",
            "/usr/local/lib/python3.10/dist-packages/sklearn/ensemble/_weight_boosting.py:527: FutureWarning: The SAMME.R algorithm (the default) is deprecated and will be removed in 1.6. Use the SAMME algorithm to circumvent this warning.\n",
            "  warnings.warn(\n"
          ]
        },
        {
          "output_type": "stream",
          "name": "stdout",
          "text": [
            "Cross-validation scores for Adaptive Boosting Classifier: [0.73170732 0.80487805 0.7804878  0.75609756 0.81967213]\n",
            "\n",
            "Mean Cross-validation Score of Adaptive Boosting Classifier: 0.7786\n"
          ]
        }
      ]
    },
    {
      "cell_type": "code",
      "source": [
        "from sklearn.ensemble import GradientBoostingClassifier\n",
        "from sklearn.model_selection import cross_val_score, KFold\n",
        "import numpy as np\n",
        "\n",
        "# Gradient Boosting Classifier with Cross-Validation\n",
        "kf = KFold(n_splits=5, shuffle=True, random_state=42)\n",
        "gb = GradientBoostingClassifier(random_state=42)\n",
        "\n",
        "# Cross-validation\n",
        "cv_gb = cross_val_score(gb, x, y, cv=kf)\n",
        "print(\"Cross-validation scores for Gradient Boosting Classifier:\", cv_gb)\n",
        "\n",
        "# Calculate mean cross-validation score\n",
        "mean_gb = np.mean(cv_gb)\n",
        "print(f\"\\nMean Cross-validation Score of Gradient Boosting Classifier: {mean_gb:.4f}\")\n",
        "\n",
        "# Note: Gradient Boosting is powerful for capturing complex patterns in data.\n"
      ],
      "metadata": {
        "colab": {
          "base_uri": "https://localhost:8080/"
        },
        "id": "oM6YT-zuuHIJ",
        "outputId": "943e980a-ef4c-4d03-aa8c-66a35ba721ae"
      },
      "execution_count": 95,
      "outputs": [
        {
          "output_type": "stream",
          "name": "stdout",
          "text": [
            "Cross-validation scores for Gradient Boosting Classifier: [0.7398374  0.77235772 0.79674797 0.75609756 0.79508197]\n",
            "\n",
            "Mean Cross-validation Score of Gradient Boosting Classifier: 0.7720\n"
          ]
        }
      ]
    },
    {
      "cell_type": "code",
      "source": [
        "from xgboost import XGBClassifier\n",
        "from sklearn.model_selection import cross_val_score, KFold\n",
        "import numpy as np\n",
        "\n",
        "# XGBoost Classifier with Cross-Validation\n",
        "kf = KFold(n_splits=5, shuffle=True, random_state=42)\n",
        "xgb_model = XGBClassifier(random_state=42, use_label_encoder=False, eval_metric='logloss')\n",
        "# Cross-validation\n",
        "cv_xgb = cross_val_score(xgb_model, x, y, cv=kf)\n",
        "print(\"Cross-validation scores for XGBoost Classifier:\", cv_xgb)\n",
        "\n",
        "# Calculate mean cross-validation score\n",
        "mean_xgb = np.mean(cv_xgb)\n",
        "print(f\"\\nMean Cross-validation Score of XGBoost Classifier: {mean_xgb:.4f}\")\n",
        "\n",
        "# Note: XGBoost is a powerful boosting algorithm, often outperforming other methods in structured data.\n"
      ],
      "metadata": {
        "colab": {
          "base_uri": "https://localhost:8080/"
        },
        "id": "UBhSK6O-uX9O",
        "outputId": "e25268cd-13dd-4b1b-891a-aa0b1b16866c"
      },
      "execution_count": 97,
      "outputs": [
        {
          "output_type": "stream",
          "name": "stderr",
          "text": [
            "/usr/local/lib/python3.10/dist-packages/xgboost/core.py:158: UserWarning: [13:48:10] WARNING: /workspace/src/learner.cc:740: \n",
            "Parameters: { \"use_label_encoder\" } are not used.\n",
            "\n",
            "  warnings.warn(smsg, UserWarning)\n",
            "/usr/local/lib/python3.10/dist-packages/xgboost/core.py:158: UserWarning: [13:48:11] WARNING: /workspace/src/learner.cc:740: \n",
            "Parameters: { \"use_label_encoder\" } are not used.\n",
            "\n",
            "  warnings.warn(smsg, UserWarning)\n",
            "/usr/local/lib/python3.10/dist-packages/xgboost/core.py:158: UserWarning: [13:48:12] WARNING: /workspace/src/learner.cc:740: \n",
            "Parameters: { \"use_label_encoder\" } are not used.\n",
            "\n",
            "  warnings.warn(smsg, UserWarning)\n",
            "/usr/local/lib/python3.10/dist-packages/xgboost/core.py:158: UserWarning: [13:48:14] WARNING: /workspace/src/learner.cc:740: \n",
            "Parameters: { \"use_label_encoder\" } are not used.\n",
            "\n",
            "  warnings.warn(smsg, UserWarning)\n",
            "/usr/local/lib/python3.10/dist-packages/xgboost/core.py:158: UserWarning: [13:48:15] WARNING: /workspace/src/learner.cc:740: \n",
            "Parameters: { \"use_label_encoder\" } are not used.\n",
            "\n",
            "  warnings.warn(smsg, UserWarning)\n"
          ]
        },
        {
          "output_type": "stream",
          "name": "stdout",
          "text": [
            "Cross-validation scores for XGBoost Classifier: [0.7398374  0.7398374  0.74796748 0.76422764 0.80327869]\n",
            "\n",
            "Mean Cross-validation Score of XGBoost Classifier: 0.7590\n"
          ]
        }
      ]
    },
    {
      "cell_type": "code",
      "source": [
        "from sklearn.ensemble import RandomForestClassifier\n",
        "from sklearn.model_selection import cross_val_score, KFold\n",
        "import numpy as np\n",
        "\n",
        "# Random Forest Classifier with Cross-Validation\n",
        "kf = KFold(n_splits=5, shuffle=True, random_state=42)\n",
        "rf = RandomForestClassifier(random_state=42)\n",
        "\n",
        "# Cross-validation\n",
        "cv_rf = cross_val_score(rf, x, y, cv=kf)\n",
        "print(\"Cross-validation scores for Random Forest Classifier:\", cv_rf)\n",
        "\n",
        "# Calculate mean cross-validation score\n",
        "mean_rf = np.mean(cv_rf)\n",
        "print(f\"\\nMean Cross-validation Score of Random Forest Classifier: {mean_rf:.4f}\")\n",
        "\n",
        "# Note: Random Forest is robust against overfitting and works well with most datasets.\n"
      ],
      "metadata": {
        "colab": {
          "base_uri": "https://localhost:8080/"
        },
        "id": "54qynDeSuuiv",
        "outputId": "26da17cf-c0e5-48a0-c427-37d064a6e674"
      },
      "execution_count": 98,
      "outputs": [
        {
          "output_type": "stream",
          "name": "stdout",
          "text": [
            "Cross-validation scores for Random Forest Classifier: [0.74796748 0.78861789 0.80487805 0.77235772 0.81147541]\n",
            "\n",
            "Mean Cross-validation Score of Random Forest Classifier: 0.7851\n"
          ]
        }
      ]
    },
    {
      "cell_type": "markdown",
      "source": [
        "# HYPERPARAMETER TUNING"
      ],
      "metadata": {
        "id": "UPV4fqobu19Z"
      }
    },
    {
      "cell_type": "markdown",
      "source": [
        "Grid Search"
      ],
      "metadata": {
        "id": "HnIMdxpgu8Qd"
      }
    },
    {
      "cell_type": "code",
      "source": [
        "from sklearn.model_selection import GridSearchCV\n",
        "\n",
        "## Defining hyperparameter space\n",
        "\n",
        "parameters ={\n",
        "    'max_samples' : [0.05, 0.1, 0.2, 0.5],\n",
        "    \"n_estimators\": [100, 200, 300]}"
      ],
      "metadata": {
        "id": "vyOmTJi5u3Fv"
      },
      "execution_count": 99,
      "outputs": []
    },
    {
      "cell_type": "code",
      "source": [
        "from re import VERBOSE\n",
        "## Initialization of Grid search\n",
        "\n",
        "grid_search = GridSearchCV(estimator=bc, param_grid = parameters, cv=5, scoring = \"accuracy\", verbose = 2, n_jobs = -1)\n",
        "gscv = grid_search.fit(x_train, y_train)\n",
        "print(\"Best parameters are : \", gscv.best_params_)\n",
        "print(\"Best score is : \", gscv.best_score_)"
      ],
      "metadata": {
        "colab": {
          "base_uri": "https://localhost:8080/"
        },
        "id": "exI9MXKbvGTA",
        "outputId": "421f56ad-4018-4788-a1f1-54824ff37388"
      },
      "execution_count": 100,
      "outputs": [
        {
          "output_type": "stream",
          "name": "stdout",
          "text": [
            "Fitting 5 folds for each of 12 candidates, totalling 60 fits\n",
            "Best parameters are :  {'max_samples': 0.05, 'n_estimators': 300}\n",
            "Best score is :  0.8166151309008451\n"
          ]
        }
      ]
    },
    {
      "cell_type": "markdown",
      "source": [
        "Random Search"
      ],
      "metadata": {
        "id": "MTGLFm6ZvJIK"
      }
    },
    {
      "cell_type": "code",
      "source": [
        "from sklearn.model_selection import RandomizedSearchCV\n",
        "\n",
        "## Initialization of random search cv\n",
        "\n",
        "random = RandomizedSearchCV(estimator = bc,\n",
        "          param_distributions = parameters,\n",
        "          verbose = 1,\n",
        "          n_jobs = -1,\n",
        "          n_iter = 18)\n",
        "rscv = random.fit(x_train, y_train)\n",
        "print(\"Best parameters are : \", rscv.best_params_)\n",
        "print(\"Best score is : \", rscv.best_score_)"
      ],
      "metadata": {
        "colab": {
          "base_uri": "https://localhost:8080/"
        },
        "id": "K9lo_ojyvI0e",
        "outputId": "a89ccebe-dbe9-4f3e-dd98-d54e8b22db56"
      },
      "execution_count": 101,
      "outputs": [
        {
          "output_type": "stream",
          "name": "stderr",
          "text": [
            "/usr/local/lib/python3.10/dist-packages/sklearn/model_selection/_search.py:320: UserWarning: The total space of parameters 12 is smaller than n_iter=18. Running 12 iterations. For exhaustive searches, use GridSearchCV.\n",
            "  warnings.warn(\n"
          ]
        },
        {
          "output_type": "stream",
          "name": "stdout",
          "text": [
            "Fitting 5 folds for each of 12 candidates, totalling 60 fits\n",
            "Best parameters are :  {'n_estimators': 300, 'max_samples': 0.05}\n",
            "Best score is :  0.8166151309008451\n"
          ]
        }
      ]
    }
  ]
}